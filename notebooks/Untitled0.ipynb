{
  "cells": [
    {
      "cell_type": "code",
      "execution_count": 1,
      "metadata": {},
      "outputs": [],
      "source": [
        "import tensorflow as tf\n",
        "import os"
      ]
    },
    {
      "cell_type": "code",
      "execution_count": null,
      "metadata": {
        "id": "k_8-6bHpuLb_"
      },
      "outputs": [],
      "source": [
        "directorio = \"data\\raw\\bal_train\"\n",
        "archivos_tfrecord = [os.path.join(directorio, f) for f in os.listdir(directorio) if f.endswith(\".tfrecord\")]\n",
        "\n",
        "print(f\"Se encontraron {len(archivos_tfrecord)} archivos .tfrecord\")\n",
        "\n"
      ]
    }
  ],
  "metadata": {
    "colab": {
      "provenance": []
    },
    "kernelspec": {
      "display_name": "Python 3",
      "name": "python3"
    },
    "language_info": {
      "codemirror_mode": {
        "name": "ipython",
        "version": 3
      },
      "file_extension": ".py",
      "mimetype": "text/x-python",
      "name": "python",
      "nbconvert_exporter": "python",
      "pygments_lexer": "ipython3",
      "version": "3.12.5"
    }
  },
  "nbformat": 4,
  "nbformat_minor": 0
}
