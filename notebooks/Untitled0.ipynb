{
  "cells": [
    {
      "cell_type": "code",
      "execution_count": null,
      "metadata": {},
      "outputs": [],
      "source": [
        "import tensorflow as tf\n",
        "import os"
      ]
    },
    {
      "cell_type": "code",
      "execution_count": null,
      "metadata": {
        "id": "k_8-6bHpuLb_"
      },
      "outputs": [],
      "source": [
        "directorio = \"C:\\Users\\sbrxb\\waveled\\data\\raw\\bal_train\"\n",
        "archivos_tfrecord = [os.path.join(directorio, f) for f in os.listdir(directorio) if f.endswith(\".tfrecord\")]\n",
        "\n",
        "print(f\"Se encontraron {len(archivos_tfrecord)} archivos .tfrecord\")\n",
        "\n"
      ]
    }
  ],
  "metadata": {
    "colab": {
      "provenance": []
    },
    "kernelspec": {
      "display_name": "Python 3",
      "name": "python3"
    },
    "language_info": {
      "name": "python"
    }
  },
  "nbformat": 4,
  "nbformat_minor": 0
}
