{
 "cells": [
  {
   "cell_type": "markdown",
   "id": "eac1716c",
   "metadata": {},
   "source": [
    "## Libraries"
   ]
  },
  {
   "cell_type": "code",
   "execution_count": 1,
   "id": "6f9a443d",
   "metadata": {},
   "outputs": [
    {
     "name": "stdout",
     "output_type": "stream",
     "text": [
      "WARNING:tensorflow:From i:\\Documents\\GitHub\\waveled\\venv\\Lib\\site-packages\\tf_keras\\src\\losses.py:2976: The name tf.losses.sparse_softmax_cross_entropy is deprecated. Please use tf.compat.v1.losses.sparse_softmax_cross_entropy instead.\n",
      "\n"
     ]
    }
   ],
   "source": [
    "# Main\n",
    "import os\n",
    "import math\n",
    "import time\n",
    "import warnings\n",
    "import numpy as np\n",
    "import joblib\n",
    "import tensorflow as tf\n",
    "import tensorflow_hub as hub\n",
    "import librosa\n",
    "import resampy\n",
    "import matplotlib.pyplot as plt\n",
    "from matplotlib.patches import Patch\n",
    "\n",
    "# MFlow\n",
    "import mlflow\n",
    "import mlflow.xgboost\n",
    "import mlflow.sklearn\n",
    "from mlflow.tracking import MlflowClient\n",
    "import dagshub\n",
    "\n",
    "# ML models\n",
    "from xgboost import XGBClassifier\n",
    "from sklearn.svm import LinearSVC\n",
    "from sklearn.calibration import CalibratedClassifierCV\n",
    "from sklearn.ensemble import RandomForestClassifier\n",
    "from sklearn.linear_model import LogisticRegression\n",
    "\n",
    "# Data processing and metrics\n",
    "from sklearn.preprocessing import StandardScaler\n",
    "from sklearn.metrics import (roc_curve, classification_report, \n",
    "                           confusion_matrix, f1_score, accuracy_score)"
   ]
  },
  {
   "cell_type": "markdown",
   "id": "d425c31d",
   "metadata": {},
   "source": [
    "## Parameters"
   ]
  },
  {
   "cell_type": "code",
   "execution_count": 2,
   "id": "3bb36d72",
   "metadata": {},
   "outputs": [],
   "source": [
    "# Parámetros de audio\n",
    "SAMPLE_RATE = 16000  # Hz\n",
    "SEGMENT_DURATION = 10.0  # segundos\n",
    "VGGISH_HOP_SIZE = 0.96  # segundos\n",
    "EMBEDDING_SIZE = 128  # tamaño de los embeddings\n",
    "NUM_SEGMENTS_PER_CHUNK = int(SEGMENT_DURATION / VGGISH_HOP_SIZE)\n",
    "MODEL_OBJECTS_DIR = 'model_objects/'\n",
    "TFRECORD_PATH = '../data/raw/bal_train/--.tfrecord'  # Example tfrecord"
   ]
  },
  {
   "cell_type": "code",
   "execution_count": 3,
   "id": "f8e1975e",
   "metadata": {},
   "outputs": [
    {
     "name": "stdout",
     "output_type": "stream",
     "text": [
      "WARNING:tensorflow:From i:\\Documents\\GitHub\\waveled\\venv\\Lib\\site-packages\\tensorflow_hub\\resolver.py:120: The name tf.gfile.MakeDirs is deprecated. Please use tf.io.gfile.makedirs instead.\n",
      "\n"
     ]
    },
    {
     "name": "stderr",
     "output_type": "stream",
     "text": [
      "WARNING:tensorflow:From i:\\Documents\\GitHub\\waveled\\venv\\Lib\\site-packages\\tensorflow_hub\\resolver.py:120: The name tf.gfile.MakeDirs is deprecated. Please use tf.io.gfile.makedirs instead.\n",
      "\n"
     ]
    },
    {
     "name": "stdout",
     "output_type": "stream",
     "text": [
      "WARNING:tensorflow:From i:\\Documents\\GitHub\\waveled\\venv\\Lib\\site-packages\\tensorflow_hub\\module_v2.py:126: The name tf.saved_model.load_v2 is deprecated. Please use tf.compat.v2.saved_model.load instead.\n",
      "\n"
     ]
    },
    {
     "name": "stderr",
     "output_type": "stream",
     "text": [
      "WARNING:tensorflow:From i:\\Documents\\GitHub\\waveled\\venv\\Lib\\site-packages\\tensorflow_hub\\module_v2.py:126: The name tf.saved_model.load_v2 is deprecated. Please use tf.compat.v2.saved_model.load instead.\n",
      "\n"
     ]
    },
    {
     "name": "stdout",
     "output_type": "stream",
     "text": [
      "✅ Modelo VGGish cargado correctamente\n"
     ]
    }
   ],
   "source": [
    "# Configuración\n",
    "warnings.filterwarnings(\"ignore\")\n",
    "os.environ['TF_CPP_MIN_LOG_LEVEL'] = '2'\n",
    "\n",
    "# Configuración MLflow\n",
    "dagshub_repo_owner = \"felytz\"\n",
    "dagshub_repo_name = \"waveled\"\n",
    "mlflow.set_tracking_uri(f\"https://dagshub.com/{dagshub_repo_owner}/{dagshub_repo_name}.mlflow\")\n",
    "\n",
    "# Cargar modelo VGGish\n",
    "VGGISH_MODEL_URL = \"https://tfhub.dev/google/vggish/1\"\n",
    "try:\n",
    "    vggish_model = hub.load(VGGISH_MODEL_URL)\n",
    "    print(\"✅ Modelo VGGish cargado correctamente\")\n",
    "except Exception as e:\n",
    "    print(f\"❌ Error cargando VGGish: {str(e)}\")\n",
    "    exit()"
   ]
  },
  {
   "cell_type": "markdown",
   "id": "cb1f5aa5",
   "metadata": {},
   "source": [
    "## Functions"
   ]
  },
  {
   "cell_type": "code",
   "execution_count": 17,
   "id": "a0dea080",
   "metadata": {},
   "outputs": [],
   "source": [
    "def load_mlflow_model(model_name):\n",
    "    \"\"\"Improved model loading with better error handling\"\"\"\n",
    "    try:\n",
    "        # First try to load as a specific flavor\n",
    "        for flavor_loader in [mlflow.sklearn.load_model, \n",
    "                            mlflow.xgboost.load_model, \n",
    "                            mlflow.pyfunc.load_model]:\n",
    "            try:\n",
    "                model = flavor_loader(f\"models:/{model_name}/latest\")\n",
    "                print(f\"✅ Model {model_name} loaded successfully as {flavor_loader.__name__}\")\n",
    "                return model\n",
    "            except Exception:\n",
    "                continue\n",
    "        \n",
    "        # If all flavor-specific loaders fail\n",
    "        raise Exception(f\"No suitable loader found for {model_name}\")\n",
    "        \n",
    "    except Exception as e:\n",
    "        print(f\"❌ Error loading model {model_name}: {str(e)}\")\n",
    "        return None\n",
    "\n",
    "def check_model_type(model):\n",
    "    \"\"\"Verifica el tipo de modelo cargado\"\"\"\n",
    "    if hasattr(model, '_model_impl'):\n",
    "        print(f\"Tipo de modelo: {type(model._model_impl)}\")\n",
    "    else:\n",
    "        print(f\"Tipo de modelo: {type(model)}\")\n",
    "    \n",
    "    print(\"Capacidades disponibles:\")\n",
    "    print(f\"- predict: {hasattr(model, 'predict')}\")\n",
    "    print(f\"- predict_proba: {hasattr(model, 'predict_proba')}\")\n",
    "    print(f\"- decision_function: {hasattr(model, 'decision_function')}\")\n",
    "\n",
    "def enhance_linear_svc(model):\n",
    "    \"\"\"Envuelve un LinearSVC para proporcionar probabilidades\"\"\"\n",
    "    \n",
    "    if isinstance(model, LinearSVC):\n",
    "        print(\"⚙️ Añadiendo calibración de probabilidades a LinearSVC\")\n",
    "        return CalibratedClassifierCV(model, method='sigmoid', cv='prefit')\n",
    "    return model\n",
    "\n",
    "def load_audio(mp3_path):\n",
    "    \"\"\"\n",
    "    Carga un archivo MP3 usando librosa y devuelve el audio y su duración.\n",
    "    \n",
    "    Args:\n",
    "        mp3_path: Ruta al archivo MP3\n",
    "        \n",
    "    Returns:\n",
    "        y: Array de muestras de audio\n",
    "        duration: Duración en segundos\n",
    "    \"\"\"\n",
    "    try:\n",
    "        # Cargar audio con librosa\n",
    "        y, sr = librosa.load(mp3_path, sr=None, mono=True)\n",
    "        \n",
    "        # Re-muestrear si es necesario\n",
    "        if sr != SAMPLE_RATE:\n",
    "            y = resampy.resample(y, sr, SAMPLE_RATE)\n",
    "        \n",
    "        duration = librosa.get_duration(y=y, sr=SAMPLE_RATE)\n",
    "        return y, duration\n",
    "    \n",
    "    except Exception as e:\n",
    "        print(f\"❌ Error cargando el archivo {mp3_path}: {str(e)}\")\n",
    "        return None, 0\n",
    "\n",
    "def split_audio(audio_samples, segment_duration=SEGMENT_DURATION):\n",
    "    \"\"\"\n",
    "    Divide el audio en segmentos del tamaño especificado.\n",
    "    \"\"\"\n",
    "    samples_per_segment = int(SAMPLE_RATE * segment_duration)\n",
    "    num_segments = math.ceil(len(audio_samples) / samples_per_segment)\n",
    "    \n",
    "    segments = []\n",
    "    for i in range(int(num_segments)):\n",
    "        start = i * samples_per_segment\n",
    "        end = start + samples_per_segment\n",
    "        segment = audio_samples[start:end]\n",
    "        \n",
    "        # Rellenar el último segmento si es necesario\n",
    "        if len(segment) < samples_per_segment:\n",
    "            segment = np.pad(segment, (0, samples_per_segment - len(segment)), \n",
    "                            mode='constant')\n",
    "        \n",
    "        segments.append(segment)\n",
    "    \n",
    "    return segments, num_segments\n",
    "\n",
    "def extract_vggish_embeddings(audio_segment):\n",
    "    \"\"\"\n",
    "    Extrae embeddings de un segmento de audio usando VGGish.\n",
    "    \"\"\"\n",
    "    try:\n",
    "        # Convertir a tensor y normalizar\n",
    "        audio_tensor = tf.convert_to_tensor(audio_segment, dtype=tf.float32)\n",
    "        \n",
    "        # Extraer embeddings\n",
    "        embeddings = vggish_model(audio_tensor).numpy()\n",
    "        \n",
    "        # Asegurar la forma correcta\n",
    "        if embeddings.shape[0] < NUM_SEGMENTS_PER_CHUNK:\n",
    "            pad_shape = [(0, NUM_SEGMENTS_PER_CHUNK - embeddings.shape[0]), (0, 0)]\n",
    "            embeddings = np.pad(embeddings, pad_shape, mode='constant')\n",
    "        else:\n",
    "            embeddings = embeddings[:NUM_SEGMENTS_PER_CHUNK]\n",
    "        \n",
    "        # Normalizar como en AudioSet\n",
    "        embeddings = (embeddings - 127.5) / 127.5\n",
    "        return embeddings\n",
    "    \n",
    "    except Exception as e:\n",
    "        print(f\"❌ Error extrayendo embeddings: {str(e)}\")\n",
    "        return np.zeros((NUM_SEGMENTS_PER_CHUNK, EMBEDDING_SIZE))\n",
    "\n",
    "def process_audio_segments(mp3_path, model, use_pca=False):\n",
    "    \"\"\"\n",
    "    Procesa un archivo MP3 completo y devuelve predicciones por segmento.\n",
    "    \"\"\"\n",
    "    # Cargar audio\n",
    "    y, duration = load_audio(mp3_path)\n",
    "    if y is None:\n",
    "        return None, None, 0\n",
    "    \n",
    "    print(f\"🎵 Audio cargado: {duration:.2f} segundos\")\n",
    "    \n",
    "    # Dividir en segmentos\n",
    "    segments, num_segments = split_audio(y)\n",
    "    print(f\"🔧 Dividido en {num_segments} segmentos de {SEGMENT_DURATION} segundos\")\n",
    "    \n",
    "    # Procesar cada segmento\n",
    "    predictions = []\n",
    "    probabilities = []\n",
    "    \n",
    "    for i, segment in enumerate(segments):\n",
    "        try:\n",
    "            # Extraer embeddings\n",
    "            embeddings = extract_vggish_embeddings(segment)\n",
    "            \n",
    "            # Preparar características\n",
    "            flattened = embeddings.flatten().reshape(1, -1)\n",
    "            scaled = scaler.transform(flattened)\n",
    "            \n",
    "            if use_pca:\n",
    "                scaled = pca.transform(scaled)\n",
    "                scaled = scaler_pca.transform(scaled)\n",
    "            \n",
    "            # Predecir\n",
    "            pred = model.predict(scaled)[0]\n",
    "            proba = model.predict_proba(scaled)[0][1]  # Probabilidad de ser música\n",
    "            \n",
    "            predictions.append(pred)\n",
    "            probabilities.append(proba)\n",
    "            \n",
    "            print(f\"Segmento {i+1}: {'MÚSICA' if pred == 1 else 'NO MÚSICA'} ({proba:.2%})\")\n",
    "            \n",
    "        except Exception as e:\n",
    "            print(f\"❌ Error procesando segmento {i+1}: {str(e)}\")\n",
    "            predictions.append(0)\n",
    "            probabilities.append(0.0)\n",
    "    \n",
    "    return predictions, probabilities, duration\n",
    "\n",
    "def predict_with_model(model, features):\n",
    "    \"\"\"\n",
    "    Realiza predicciones adaptándose a las capacidades de cada modelo\n",
    "    Devuelve: (predicción, probabilidad)\n",
    "    \"\"\"\n",
    "    try:\n",
    "        # Modelos con predict_proba (LogisticRegression, RandomForest, XGBoost)\n",
    "        if hasattr(model, 'predict_proba'):\n",
    "            proba = model.predict_proba(features)[0][1]\n",
    "            pred = model.predict(features)[0]\n",
    "            return pred, proba\n",
    "        \n",
    "        # Modelos con decision_function pero sin predict_proba (LinearSVC)\n",
    "        elif hasattr(model, 'decision_function'):\n",
    "            decision = model.decision_function(features)[0]\n",
    "            pred = model.predict(features)[0]\n",
    "            # Convertir score de decisión a probabilidad aproximada\n",
    "            proba = 1 / (1 + np.exp(-decision))  # Función sigmoide\n",
    "            return pred, proba\n",
    "        \n",
    "        # Modelos solo con predict\n",
    "        else:\n",
    "            pred = model.predict(features)[0]\n",
    "            return pred, 1.0 if pred == 1 else 0.0  # Valor dummy para consistencia\n",
    "            \n",
    "    except Exception as e:\n",
    "        print(f\"❌ Error en predicción: {str(e)}\")\n",
    "        return 0, 0.0\n",
    "\n",
    "# Función principal de análisis\n",
    "# Función principal de análisis mejorada\n",
    "def analyze_audio_file(mp3_path, model_name=\"XGBoost\", model=None):\n",
    "    \"\"\"Analiza un archivo de audio completo con un modelo específico\"\"\"\n",
    "    print(f\"\\n🔍 Iniciando análisis de: {mp3_path} usando {model_name}\")\n",
    "    \n",
    "    # Usar el modelo pre-cargado si no se proporciona uno\n",
    "    if model is None:\n",
    "        if model_name in models:\n",
    "            model = models[model_name]\n",
    "        else:\n",
    "            print(f\"❌ Modelo {model_name} no encontrado en los modelos cargados\")\n",
    "            return\n",
    "    \n",
    "    # Cargar y dividir audio\n",
    "    y, duration = load_audio(mp3_path)\n",
    "    if y is None:\n",
    "        return\n",
    "    \n",
    "    segments, num_segments = split_audio(y)\n",
    "    print(f\"🔧 Dividido en {num_segments} segmentos de {SEGMENT_DURATION} segundos\")\n",
    "    \n",
    "    # Procesar cada segmento\n",
    "    predictions = []\n",
    "    probabilities = []\n",
    "    \n",
    "    for i, segment in enumerate(segments):\n",
    "        try:\n",
    "            # Extraer y preparar características\n",
    "            embeddings = extract_vggish_embeddings(segment)\n",
    "            flattened = embeddings.flatten().reshape(1, -1)\n",
    "            scaled = scaler.transform(flattened)\n",
    "            \n",
    "            # Manejar PCA de manera más robusta\n",
    "            use_pca = any(keyword in model_name for keyword in ['PCA', 'pca'])\n",
    "            if use_pca:\n",
    "                scaled = pca.transform(scaled)\n",
    "                scaled = scaler_pca.transform(scaled)\n",
    "            \n",
    "            # Predecir\n",
    "            pred, proba = predict_with_model(model, scaled)\n",
    "            \n",
    "            predictions.append(pred)\n",
    "            probabilities.append(proba)\n",
    "            \n",
    "            print(f\"Segmento {i+1}: {'MÚSICA' if pred == 1 else 'NO MÚSICA'} ({proba:.2%})\")\n",
    "            \n",
    "        except Exception as e:\n",
    "            print(f\"❌ Error procesando segmento {i+1}: {str(e)}\")\n",
    "            predictions.append(0)\n",
    "            probabilities.append(0.0)\n",
    "    \n",
    "    # Visualización\n",
    "    visualize_results(predictions, probabilities, duration, model_name)\n",
    "\n",
    "def visualize_results(predictions, probabilities, duration, model_name):\n",
    "    \"\"\"Visualiza los resultados del análisis\"\"\"\n",
    "    num_segments = len(predictions)\n",
    "    time_axis = np.linspace(0, duration, num_segments, endpoint=False)\n",
    "    \n",
    "    fig, (ax1, ax2) = plt.subplots(2, 1, figsize=(12, 6), sharex=True)\n",
    "    plt.suptitle(f'Análisis de Música: {model_name}\\nDuración: {duration:.2f}s')\n",
    "    \n",
    "    # Gráfico de clasificación\n",
    "    colors = ['red' if p == 0 else 'green' for p in predictions]\n",
    "    ax1.bar(time_axis, [1]*num_segments, width=SEGMENT_DURATION, \n",
    "            color=colors, alpha=0.6, align='edge')\n",
    "    ax1.set_ylabel('Clasificación')\n",
    "    ax1.set_yticks([0, 1])\n",
    "    ax1.set_yticklabels(['No música', 'Música'])\n",
    "    ax1.grid(True, axis='x', alpha=0.3)\n",
    "    \n",
    "    # Gráfico de probabilidades\n",
    "    ax2.bar(time_axis, probabilities, width=SEGMENT_DURATION, \n",
    "            color='blue', alpha=0.6, align='edge')\n",
    "    ax2.set_xlabel('Tiempo (segundos)')\n",
    "    ax2.set_ylabel('Probabilidad')\n",
    "    ax2.set_ylim(0, 1)\n",
    "    ax2.grid(True, alpha=0.3)\n",
    "    \n",
    "    # Leyenda y estadísticas\n",
    "    legend_elements = [\n",
    "        Patch(facecolor='green', label='Música', alpha=0.6),\n",
    "        Patch(facecolor='red', label='No música', alpha=0.6)\n",
    "    ]\n",
    "    ax1.legend(handles=legend_elements, loc='upper right')\n",
    "    \n",
    "    music_segments = sum(predictions)\n",
    "    music_percentage = music_segments / num_segments * 100\n",
    "    avg_prob = np.mean(probabilities) * 100\n",
    "    \n",
    "    plt.tight_layout()\n",
    "    plt.show()\n",
    "    \n",
    "    print(\"\\n📊 Resumen:\")\n",
    "    print(f\"- Segmentos de música: {music_segments}/{num_segments} ({music_percentage:.1f}%)\")\n",
    "    print(f\"- Probabilidad promedio: {avg_prob:.1f}%\")\n",
    "    print(\"🎼 CONCLUSIÓN: El audio es PREDOMINANTEMENTE MÚSICA\" if music_percentage > 50 \n",
    "          else \"🔇 CONCLUSIÓN: El audio NO ES PREDOMINANTEMENTE MÚSICA\")"
   ]
  },
  {
   "cell_type": "markdown",
   "id": "ca63757e",
   "metadata": {},
   "source": [
    "## Running"
   ]
  },
  {
   "cell_type": "code",
   "execution_count": 8,
   "id": "8d201d27",
   "metadata": {},
   "outputs": [
    {
     "name": "stdout",
     "output_type": "stream",
     "text": [
      "✅ Objetos de preprocesamiento cargados correctamente\n"
     ]
    }
   ],
   "source": [
    "# Cargar objetos de preprocesamiento\n",
    "try:\n",
    "    scaler = joblib.load(os.path.join(MODEL_OBJECTS_DIR, 'scaler.joblib'))\n",
    "    pca = joblib.load(os.path.join(MODEL_OBJECTS_DIR, 'pca.joblib'))\n",
    "    scaler_pca = joblib.load(os.path.join(MODEL_OBJECTS_DIR, 'scaler_pca.joblib'))\n",
    "    print(\"✅ Objetos de preprocesamiento cargados correctamente\")\n",
    "except Exception as e:\n",
    "    print(f\"❌ Error cargando objetos de preprocesamiento: {str(e)}\")\n",
    "    raise"
   ]
  },
  {
   "cell_type": "code",
   "execution_count": 13,
   "id": "84834aa8",
   "metadata": {},
   "outputs": [],
   "source": [
    "# Get all registered models\n",
    "client = MlflowClient()\n",
    "registered_models = client.search_registered_models()"
   ]
  },
  {
   "cell_type": "code",
   "execution_count": 14,
   "id": "79691f11",
   "metadata": {},
   "outputs": [
    {
     "name": "stdout",
     "output_type": "stream",
     "text": [
      "Loading and enhancing LinearSVC_PCA...\n"
     ]
    },
    {
     "data": {
      "application/vnd.jupyter.widget-view+json": {
       "model_id": "352f5c6703a648269c94fe1c93317fdc",
       "version_major": 2,
       "version_minor": 0
      },
      "text/plain": [
       "Downloading artifacts:   0%|          | 0/7 [00:00<?, ?it/s]"
      ]
     },
     "metadata": {},
     "output_type": "display_data"
    },
    {
     "name": "stdout",
     "output_type": "stream",
     "text": [
      "✅ Model LinearSVC_PCA loaded successfully as load_model\n",
      "⚙️ Añadiendo calibración de probabilidades a LinearSVC\n",
      "Loading LinearSVC_PCA...\n"
     ]
    },
    {
     "data": {
      "application/vnd.jupyter.widget-view+json": {
       "model_id": "07231d1392744f65a2cbc1787e25328e",
       "version_major": 2,
       "version_minor": 0
      },
      "text/plain": [
       "Downloading artifacts:   0%|          | 0/7 [00:00<?, ?it/s]"
      ]
     },
     "metadata": {},
     "output_type": "display_data"
    },
    {
     "name": "stdout",
     "output_type": "stream",
     "text": [
      "✅ Model LinearSVC_PCA loaded successfully as load_model\n",
      "Loading LogisticRegression_PCA...\n"
     ]
    },
    {
     "data": {
      "application/vnd.jupyter.widget-view+json": {
       "model_id": "e3d0b5e5a04b4ff083abc1e72363c294",
       "version_major": 2,
       "version_minor": 0
      },
      "text/plain": [
       "Downloading artifacts:   0%|          | 0/7 [00:00<?, ?it/s]"
      ]
     },
     "metadata": {},
     "output_type": "display_data"
    },
    {
     "name": "stdout",
     "output_type": "stream",
     "text": [
      "✅ Model LogisticRegression_PCA loaded successfully as load_model\n",
      "Loading RandomForest...\n"
     ]
    },
    {
     "data": {
      "application/vnd.jupyter.widget-view+json": {
       "model_id": "c7ee23c8982d4ea09e580495e76d926c",
       "version_major": 2,
       "version_minor": 0
      },
      "text/plain": [
       "Downloading artifacts:   0%|          | 0/7 [00:00<?, ?it/s]"
      ]
     },
     "metadata": {},
     "output_type": "display_data"
    },
    {
     "name": "stdout",
     "output_type": "stream",
     "text": [
      "✅ Model RandomForest loaded successfully as load_model\n",
      "Loading XGBoost...\n"
     ]
    },
    {
     "data": {
      "application/vnd.jupyter.widget-view+json": {
       "model_id": "c28537bbef764611b5d388864f79c218",
       "version_major": 2,
       "version_minor": 0
      },
      "text/plain": [
       "Downloading artifacts:   0%|          | 0/7 [00:00<?, ?it/s]"
      ]
     },
     "metadata": {},
     "output_type": "display_data"
    },
    {
     "data": {
      "application/vnd.jupyter.widget-view+json": {
       "model_id": "06eae648570a49e9bce035b1d782ad1c",
       "version_major": 2,
       "version_minor": 0
      },
      "text/plain": [
       "Downloading artifacts:   0%|          | 0/7 [00:00<?, ?it/s]"
      ]
     },
     "metadata": {},
     "output_type": "display_data"
    },
    {
     "name": "stdout",
     "output_type": "stream",
     "text": [
      "✅ Model XGBoost loaded successfully as load_model\n"
     ]
    }
   ],
   "source": [
    "# Create models dictionary\n",
    "models = {}\n",
    "for model_info in registered_models:\n",
    "    model_name = model_info.name\n",
    "    try:\n",
    "        if model_name == 'LinearSVC_PCA':\n",
    "            # Special handling for LinearSVC\n",
    "            print(f\"Loading and enhancing {model_name}...\")\n",
    "            base_model = load_mlflow_model(model_name)\n",
    "            models[model_name] = enhance_linear_svc(base_model)\n",
    "        if model_name == 'LogisticRegression':\n",
    "            continue\n",
    "        else:\n",
    "            # Standard loading for other models\n",
    "            print(f\"Loading {model_name}...\")\n",
    "            models[model_name] = load_mlflow_model(model_name)\n",
    "    except Exception as e:\n",
    "        print(f\"❌ Failed to load model {model_name}: {str(e)}\")\n",
    "        continue"
   ]
  },
  {
   "cell_type": "code",
   "execution_count": 18,
   "id": "2b06e6d6",
   "metadata": {},
   "outputs": [
    {
     "name": "stdout",
     "output_type": "stream",
     "text": [
      "\n",
      "==================================================\n",
      "⚙️ Comenzando análisis con modelo: LinearSVC_PCA\n",
      "\n",
      "🔍 Iniciando análisis de: ejemplo_audio.mp3 usando LinearSVC_PCA\n",
      "🔧 Dividido en 17 segmentos de 10.0 segundos\n",
      "Segmento 1: NO MÚSICA (31.84%)\n",
      "Segmento 2: NO MÚSICA (31.80%)\n",
      "Segmento 3: NO MÚSICA (31.81%)\n",
      "Segmento 4: NO MÚSICA (31.80%)\n",
      "Segmento 5: NO MÚSICA (31.81%)\n",
      "Segmento 6: NO MÚSICA (31.81%)\n",
      "Segmento 7: NO MÚSICA (31.82%)\n",
      "Segmento 8: NO MÚSICA (31.83%)\n",
      "Segmento 9: NO MÚSICA (31.81%)\n",
      "Segmento 10: NO MÚSICA (31.80%)\n",
      "Segmento 11: NO MÚSICA (31.81%)\n",
      "Segmento 12: NO MÚSICA (31.83%)\n",
      "Segmento 13: NO MÚSICA (31.82%)\n",
      "Segmento 14: NO MÚSICA (31.78%)\n",
      "Segmento 15: NO MÚSICA (31.79%)\n",
      "Segmento 16: NO MÚSICA (31.81%)\n",
      "Segmento 17: NO MÚSICA (31.86%)\n"
     ]
    },
    {
     "data": {
      "image/png": "[encoded data removed]",
      "text/plain": [
       "<Figure size 1200x600 with 2 Axes>"
      ]
     },
     "metadata": {},
     "output_type": "display_data"
    },
    {
     "name": "stdout",
     "output_type": "stream",
     "text": [
      "\n",
      "📊 Resumen:\n",
      "- Segmentos de música: 0.0/17 (0.0%)\n",
      "- Probabilidad promedio: 31.8%\n",
      "🔇 CONCLUSIÓN: El audio NO ES PREDOMINANTEMENTE MÚSICA\n",
      "\n",
      "==================================================\n",
      "⚙️ Comenzando análisis con modelo: LogisticRegression_PCA\n",
      "\n",
      "🔍 Iniciando análisis de: ejemplo_audio.mp3 usando LogisticRegression_PCA\n",
      "🔧 Dividido en 17 segmentos de 10.0 segundos\n",
      "Segmento 1: NO MÚSICA (12.61%)\n",
      "Segmento 2: NO MÚSICA (12.64%)\n",
      "Segmento 3: NO MÚSICA (12.61%)\n",
      "Segmento 4: NO MÚSICA (12.62%)\n",
      "Segmento 5: NO MÚSICA (12.62%)\n",
      "Segmento 6: NO MÚSICA (12.62%)\n",
      "Segmento 7: NO MÚSICA (12.62%)\n",
      "Segmento 8: NO MÚSICA (12.61%)\n",
      "Segmento 9: NO MÚSICA (12.60%)\n",
      "Segmento 10: NO MÚSICA (12.61%)\n",
      "Segmento 11: NO MÚSICA (12.60%)\n",
      "Segmento 12: NO MÚSICA (12.61%)\n",
      "Segmento 13: NO MÚSICA (12.62%)\n",
      "Segmento 14: NO MÚSICA (12.62%)\n",
      "Segmento 15: NO MÚSICA (12.58%)\n",
      "Segmento 16: NO MÚSICA (12.60%)\n",
      "Segmento 17: NO MÚSICA (12.67%)\n"
     ]
    },
    {
     "data": {
      "image/png": "[encoded data removed]",
      "text/plain": [
       "<Figure size 1200x600 with 2 Axes>"
      ]
     },
     "metadata": {},
     "output_type": "display_data"
    },
    {
     "name": "stdout",
     "output_type": "stream",
     "text": [
      "\n",
      "📊 Resumen:\n",
      "- Segmentos de música: 0.0/17 (0.0%)\n",
      "- Probabilidad promedio: 12.6%\n",
      "🔇 CONCLUSIÓN: El audio NO ES PREDOMINANTEMENTE MÚSICA\n",
      "\n",
      "==================================================\n",
      "⚙️ Comenzando análisis con modelo: RandomForest\n",
      "\n",
      "🔍 Iniciando análisis de: ejemplo_audio.mp3 usando RandomForest\n",
      "🔧 Dividido en 17 segmentos de 10.0 segundos\n",
      "Segmento 1: NO MÚSICA (36.59%)\n",
      "Segmento 2: NO MÚSICA (36.59%)\n",
      "Segmento 3: NO MÚSICA (36.59%)\n",
      "Segmento 4: NO MÚSICA (36.59%)\n",
      "Segmento 5: NO MÚSICA (36.59%)\n",
      "Segmento 6: NO MÚSICA (36.59%)\n",
      "Segmento 7: NO MÚSICA (36.59%)\n",
      "Segmento 8: NO MÚSICA (36.59%)\n",
      "Segmento 9: NO MÚSICA (36.59%)\n",
      "Segmento 10: NO MÚSICA (36.59%)\n",
      "Segmento 11: NO MÚSICA (36.59%)\n",
      "Segmento 12: NO MÚSICA (36.59%)\n",
      "Segmento 13: NO MÚSICA (36.59%)\n",
      "Segmento 14: NO MÚSICA (36.59%)\n",
      "Segmento 15: NO MÚSICA (36.59%)\n",
      "Segmento 16: NO MÚSICA (36.59%)\n",
      "Segmento 17: NO MÚSICA (36.59%)\n"
     ]
    },
    {
     "data": {
      "image/png": "[encoded data removed]",
      "text/plain": [
       "<Figure size 1200x600 with 2 Axes>"
      ]
     },
     "metadata": {},
     "output_type": "display_data"
    },
    {
     "name": "stdout",
     "output_type": "stream",
     "text": [
      "\n",
      "📊 Resumen:\n",
      "- Segmentos de música: 0.0/17 (0.0%)\n",
      "- Probabilidad promedio: 36.6%\n",
      "🔇 CONCLUSIÓN: El audio NO ES PREDOMINANTEMENTE MÚSICA\n",
      "\n",
      "==================================================\n",
      "⚙️ Comenzando análisis con modelo: XGBoost\n",
      "\n",
      "🔍 Iniciando análisis de: ejemplo_audio.mp3 usando XGBoost\n",
      "🔧 Dividido en 17 segmentos de 10.0 segundos\n",
      "Segmento 1: NO MÚSICA (18.36%)\n",
      "Segmento 2: NO MÚSICA (18.36%)\n",
      "Segmento 3: NO MÚSICA (18.36%)\n",
      "Segmento 4: NO MÚSICA (18.36%)\n",
      "Segmento 5: NO MÚSICA (18.36%)\n",
      "Segmento 6: NO MÚSICA (18.36%)\n",
      "Segmento 7: NO MÚSICA (18.36%)\n",
      "Segmento 8: NO MÚSICA (18.36%)\n",
      "Segmento 9: NO MÚSICA (18.36%)\n",
      "Segmento 10: NO MÚSICA (18.36%)\n",
      "Segmento 11: NO MÚSICA (18.36%)\n",
      "Segmento 12: NO MÚSICA (18.36%)\n",
      "Segmento 13: NO MÚSICA (18.36%)\n",
      "Segmento 14: NO MÚSICA (18.36%)\n",
      "Segmento 15: NO MÚSICA (16.86%)\n",
      "Segmento 16: NO MÚSICA (18.36%)\n",
      "Segmento 17: NO MÚSICA (18.36%)\n"
     ]
    },
    {
     "data": {
      "image/png": "[encoded data removed]",
      "text/plain": [
       "<Figure size 1200x600 with 2 Axes>"
      ]
     },
     "metadata": {},
     "output_type": "display_data"
    },
    {
     "name": "stdout",
     "output_type": "stream",
     "text": [
      "\n",
      "📊 Resumen:\n",
      "- Segmentos de música: 0/17 (0.0%)\n",
      "- Probabilidad promedio: 18.3%\n",
      "🔇 CONCLUSIÓN: El audio NO ES PREDOMINANTEMENTE MÚSICA\n"
     ]
    }
   ],
   "source": [
    "# Ejemplo de uso mejorado\n",
    "if __name__ == \"__main__\":\n",
    "    audio_file = \"ejemplo_audio.mp3\"\n",
    "    \n",
    "    if not os.path.exists(audio_file):\n",
    "        print(f\"❌ El archivo {audio_file} no existe\")\n",
    "    else:\n",
    "        # Analizar con todos los modelos disponibles\n",
    "        for model_name, model in models.items():\n",
    "            try:\n",
    "                print(f\"\\n{'='*50}\")\n",
    "                print(f\"⚙️ Comenzando análisis con modelo: {model_name}\")\n",
    "                analyze_audio_file(audio_file, model_name, model)\n",
    "            except Exception as e:\n",
    "                print(f\"❌ Error al analizar con {model_name}: {str(e)}\")\n",
    "                traceback.print_exc()  # Para más detalles del error"
   ]
  },
  {
   "cell_type": "code",
   "execution_count": 19,
   "id": "72efdf99",
   "metadata": {},
   "outputs": [
    {
     "name": "stdout",
     "output_type": "stream",
     "text": [
      "\n",
      "🔍 Procesando archivo: ../data/raw/bal_train/--.tfrecord\n",
      "\n",
      "📊 Resultados de predicción:\n",
      "\n",
      "🎵 Ejemplo - ID: --cB2ZVjpnA\n",
      "   Etiquetas reales: [399]\n",
      "   Es música: Sí\n",
      "   LinearSVC_PCA: No música (44.75%)\n",
      "   LogisticRegression_PCA: No música (27.74%)\n",
      "   RandomForest: No música (21.97%)\n",
      "   XGBoost: No música (25.18%)\n",
      "\n",
      "🎵 Ejemplo - ID: --PJHxphWEs\n",
      "   Etiquetas reales: [  0 451]\n",
      "   Es música: Sí\n",
      "   LinearSVC_PCA: No música (40.19%)\n",
      "   LogisticRegression_PCA: No música (37.88%)\n",
      "   RandomForest: No música (24.05%)\n",
      "   XGBoost: No música (20.70%)\n",
      "\n",
      "🎵 Ejemplo - ID: --ekDLDTUXA\n",
      "   Etiquetas reales: [ 27 466]\n",
      "   Es música: Sí\n",
      "   LinearSVC_PCA: Música (68.83%)\n",
      "   LogisticRegression_PCA: Música (56.47%)\n",
      "   RandomForest: Música (59.51%)\n",
      "   XGBoost: Música (94.29%)\n"
     ]
    }
   ],
   "source": [
    "# Función corregida para parsear TFRecords\n",
    "def parse_tfrecord_example(example_proto, seq_length=10):\n",
    "    \"\"\"Parse individual TFRecord example (versión corregida).\"\"\"\n",
    "    context_features = {\n",
    "        \"video_id\": tf.io.FixedLenFeature([], tf.string),\n",
    "        \"labels\": tf.io.VarLenFeature(tf.int64)\n",
    "    }\n",
    "    sequence_features = {\n",
    "        \"audio_embedding\": tf.io.FixedLenSequenceFeature([], tf.string, allow_missing=True)\n",
    "    }\n",
    "    \n",
    "    # Parseamos separando features de contexto y secuencia\n",
    "    context, sequence = tf.io.parse_single_sequence_example(\n",
    "        example_proto,\n",
    "        context_features=context_features,\n",
    "        sequence_features=sequence_features\n",
    "    )\n",
    "    \n",
    "    # Procesar audio embeddings\n",
    "    audio_embedding = tf.io.decode_raw(sequence['audio_embedding'], tf.uint8)\n",
    "    audio_embedding = tf.reshape(audio_embedding, [-1, 128])\n",
    "    audio_embedding = (tf.cast(audio_embedding, tf.float32) - 127.5) / 127.5\n",
    "    \n",
    "    # Asegurar longitud consistente\n",
    "    if tf.shape(audio_embedding)[0] < seq_length:\n",
    "        padding = [[0, seq_length - tf.shape(audio_embedding)[0]], [0, 0]]\n",
    "        audio_embedding = tf.pad(audio_embedding, padding)\n",
    "    else:\n",
    "        audio_embedding = audio_embedding[:seq_length]\n",
    "    \n",
    "    audio_embedding.set_shape([seq_length, 128])\n",
    "    \n",
    "    # Procesar etiquetas\n",
    "    labels = tf.sparse.to_dense(context['labels'])\n",
    "    is_music = tf.cast(tf.size(labels) > 0, tf.float32)\n",
    "    \n",
    "    return {\n",
    "        'video_id': context['video_id'],\n",
    "        'audio_embedding': audio_embedding,\n",
    "        'labels': labels,\n",
    "        'is_music': is_music\n",
    "    }\n",
    "\n",
    "# Versión corregida de process_single_tfrecord\n",
    "def process_single_tfrecord(tfrecord_path, num_examples=3):\n",
    "    \"\"\"Extrae ejemplos de un solo archivo TFRecord (versión corregida)\"\"\"\n",
    "    try:\n",
    "        raw_dataset = tf.data.TFRecordDataset(tfrecord_path)\n",
    "        parsed_dataset = raw_dataset.map(parse_tfrecord_example)\n",
    "        \n",
    "        examples = []\n",
    "        for example in parsed_dataset.take(num_examples):\n",
    "            examples.append({\n",
    "                'video_id': example['video_id'].numpy().decode('utf-8'),\n",
    "                'audio_embedding': example['audio_embedding'].numpy(),\n",
    "                'labels': example['labels'].numpy(),\n",
    "                'is_music': example['is_music'].numpy()\n",
    "            })\n",
    "        return examples\n",
    "    except Exception as e:\n",
    "        print(f\"❌ Error procesando {tfrecord_path}: {str(e)}\")\n",
    "        return []\n",
    "\n",
    "# Función de predicción mejorada\n",
    "def predict_example(model, audio_embeddings, model_name):\n",
    "    \"\"\"Hace predicciones con un modelo para un conjunto de embeddings.\"\"\"\n",
    "    # Aplanar los embeddings\n",
    "    flattened = audio_embeddings.flatten().reshape(1, -1)\n",
    "    \n",
    "    # Preprocesamiento\n",
    "    scaled = scaler.transform(flattened)\n",
    "    \n",
    "    if \"PCA\" in model_name:\n",
    "        scaled = pca.transform(scaled)\n",
    "        scaled = scaler_pca.transform(scaled)\n",
    "    \n",
    "    # Predecir\n",
    "    if hasattr(model, 'predict_proba'):\n",
    "        pred = model.predict(scaled)[0]\n",
    "        proba = model.predict_proba(scaled)[0][1]\n",
    "        return pred, proba\n",
    "    elif hasattr(model, 'decision_function'):\n",
    "        pred = model.predict(scaled)[0]\n",
    "        proba = model.decision_function(scaled)[0]\n",
    "        return pred, 1/(1+np.exp(-proba))  # Convertir a probabilidad aproximada\n",
    "    else:\n",
    "        pred = model.predict(scaled)[0]\n",
    "        return pred, None\n",
    "\n",
    "# Ejecutar prueba completa\n",
    "print(f\"\\n🔍 Procesando archivo: {TFRECORD_PATH}\")\n",
    "examples = process_single_tfrecord(TFRECORD_PATH)\n",
    "\n",
    "print(\"\\n📊 Resultados de predicción:\")\n",
    "for example in examples:\n",
    "    print(f\"\\n🎵 Ejemplo - ID: {example['video_id']}\")\n",
    "    print(f\"   Etiquetas reales: {example['labels']}\")\n",
    "    print(f\"   Es música: {'Sí' if example['is_music'] == 1 else 'No'}\")\n",
    "    \n",
    "    for model_name, model in models.items():\n",
    "        pred, proba = predict_example(model, example['audio_embedding'], model_name)\n",
    "        if pred is not None:\n",
    "            proba_text = f\" ({proba:.2%})\" if proba is not None else \"\"\n",
    "            print(f\"   {model_name}: {'Música' if pred == 1 else 'No música'}{proba_text}\")"
   ]
  }
 ],
 "metadata": {
  "kernelspec": {
   "display_name": "venv",
   "language": "python",
   "name": "python3"
  },
  "language_info": {
   "codemirror_mode": {
    "name": "ipython",
    "version": 3
   },
   "file_extension": ".py",
   "mimetype": "text/x-python",
   "name": "python",
   "nbconvert_exporter": "python",
   "pygments_lexer": "ipython3",
   "version": "3.11.0"
  }
 },
 "nbformat": 4,
 "nbformat_minor": 5
}
