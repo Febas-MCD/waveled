{
 "cells": [
  {
   "cell_type": "markdown",
   "id": "b3da5355",
   "metadata": {},
   "source": [
    "In this notebook see how to get a summary of the experiments, aswell as how to retrieve, load, and use the registered models from DAGsHub"
   ]
  },
  {
   "cell_type": "markdown",
   "id": "09480e91",
   "metadata": {},
   "source": [
    "## Libraries"
   ]
  },
  {
   "cell_type": "code",
   "execution_count": 1,
   "id": "f966d50d",
   "metadata": {},
   "outputs": [],
   "source": [
    "import mlflow\n",
    "import dagshub\n",
    "import pandas as pd\n",
    "from mlflow.tracking import MlflowClient"
   ]
  },
  {
   "cell_type": "markdown",
   "id": "7bc356f6",
   "metadata": {},
   "source": [
    "## DAGsHub Conection"
   ]
  },
  {
   "cell_type": "code",
   "execution_count": 2,
   "id": "20803aa0",
   "metadata": {},
   "outputs": [
    {
     "data": {
      "text/html": [
       "<pre style=\"white-space:pre;overflow-x:auto;line-height:normal;font-family:Menlo,'DejaVu Sans Mono',consolas,'Courier New',monospace\">Accessing as felytz\n",
       "</pre>\n"
      ],
      "text/plain": [
       "Accessing as felytz\n"
      ]
     },
     "metadata": {},
     "output_type": "display_data"
    },
    {
     "data": {
      "text/html": [
       "<pre style=\"white-space:pre;overflow-x:auto;line-height:normal;font-family:Menlo,'DejaVu Sans Mono',consolas,'Courier New',monospace\">Initialized MLflow to track repo <span style=\"color: #008000; text-decoration-color: #008000\">\"Febas-MCD/waveled\"</span>\n",
       "</pre>\n"
      ],
      "text/plain": [
       "Initialized MLflow to track repo \u001b[32m\"Febas-MCD/waveled\"\u001b[0m\n"
      ]
     },
     "metadata": {},
     "output_type": "display_data"
    },
    {
     "data": {
      "text/html": [
       "<pre style=\"white-space:pre;overflow-x:auto;line-height:normal;font-family:Menlo,'DejaVu Sans Mono',consolas,'Courier New',monospace\">Repository Febas-MCD/waveled initialized!\n",
       "</pre>\n"
      ],
      "text/plain": [
       "Repository Febas-MCD/waveled initialized!\n"
      ]
     },
     "metadata": {},
     "output_type": "display_data"
    }
   ],
   "source": [
    "# Initialize DagsHub and MLflow\n",
    "try:\n",
    "    dagshub.init(repo_owner='Febas-MCD', repo_name='waveled', mlflow=True)\n",
    "except Exception as e:\n",
    "    print(f\"⚠️ Failed to connect to remote tracking: {str(e)}\")\n",
    "    mlflow.set_tracking_uri(\"file://./mlruns\")\n",
    "    print(\"⚠️ Falling back to local MLflow tracking\")"
   ]
  },
  {
   "cell_type": "markdown",
   "id": "8ec918b5",
   "metadata": {},
   "source": [
    "## Experiments"
   ]
  },
  {
   "cell_type": "code",
   "execution_count": 13,
   "id": "d83a7d78",
   "metadata": {},
   "outputs": [
    {
     "data": {
      "text/html": [
       "<div>\n",
       "<style scoped>\n",
       "    .dataframe tbody tr th:only-of-type {\n",
       "        vertical-align: middle;\n",
       "    }\n",
       "\n",
       "    .dataframe tbody tr th {\n",
       "        vertical-align: top;\n",
       "    }\n",
       "\n",
       "    .dataframe thead th {\n",
       "        text-align: right;\n",
       "    }\n",
       "</style>\n",
       "<table border=\"1\" class=\"dataframe\">\n",
       "  <thead>\n",
       "    <tr style=\"text-align: right;\">\n",
       "      <th></th>\n",
       "      <th>run_id</th>\n",
       "      <th>experiment_id</th>\n",
       "      <th>experiment_name</th>\n",
       "      <th>run_name</th>\n",
       "      <th>metrics</th>\n",
       "      <th>params</th>\n",
       "      <th>artifacts</th>\n",
       "      <th>model_type</th>\n",
       "    </tr>\n",
       "  </thead>\n",
       "  <tbody>\n",
       "    <tr>\n",
       "      <th>0</th>\n",
       "      <td>b5606b62df26453cbe54635618cc9a42</td>\n",
       "      <td>0</td>\n",
       "      <td>Default</td>\n",
       "      <td>XGBoost_20250517_214912</td>\n",
       "      <td>{'metrics.accuracy': 0.8756793478260869, 'metr...</td>\n",
       "      <td>{'params.max_depth': '6', 'params.n_estimators...</td>\n",
       "      <td>[XGBoost]</td>\n",
       "      <td>XGBoost</td>\n",
       "    </tr>\n",
       "    <tr>\n",
       "      <th>1</th>\n",
       "      <td>ebad1b80510242e889ec5b36b3d053a1</td>\n",
       "      <td>0</td>\n",
       "      <td>Default</td>\n",
       "      <td>RandomForest_20250517_214701</td>\n",
       "      <td>{'metrics.accuracy': 0.8620923913043478, 'metr...</td>\n",
       "      <td>{'params.max_depth': '10', 'params.n_estimator...</td>\n",
       "      <td>[RandomForest]</td>\n",
       "      <td>RandomForest</td>\n",
       "    </tr>\n",
       "    <tr>\n",
       "      <th>2</th>\n",
       "      <td>38c2ad4632f14dcaa08cce4deab2b7d2</td>\n",
       "      <td>0</td>\n",
       "      <td>Default</td>\n",
       "      <td>LinearSVC_PCA_20250517_214640</td>\n",
       "      <td>{'metrics.accuracy': 0.858016304347826, 'metri...</td>\n",
       "      <td>{'params.max_depth': None, 'params.n_estimator...</td>\n",
       "      <td>[LinearSVC_PCA]</td>\n",
       "      <td>LinearSVC_PCA</td>\n",
       "    </tr>\n",
       "    <tr>\n",
       "      <th>3</th>\n",
       "      <td>2bd01ee707044c6fa3c424f263b3aea4</td>\n",
       "      <td>0</td>\n",
       "      <td>Default</td>\n",
       "      <td>LogisticRegression_PCA_20250517_214553</td>\n",
       "      <td>{'metrics.accuracy': 0.8582427536231884, 'metr...</td>\n",
       "      <td>{'params.max_depth': None, 'params.n_estimator...</td>\n",
       "      <td>[LogisticRegression_PCA]</td>\n",
       "      <td>LogisticRegression_PCA</td>\n",
       "    </tr>\n",
       "    <tr>\n",
       "      <th>4</th>\n",
       "      <td>03eff35c96664ccaa43b5a4b26aa2568</td>\n",
       "      <td>0</td>\n",
       "      <td>Default</td>\n",
       "      <td>XGBoost_20250517_201607</td>\n",
       "      <td>{'metrics.accuracy': 0.8747735507246377, 'metr...</td>\n",
       "      <td>{'params.max_depth': '6', 'params.n_estimators...</td>\n",
       "      <td>[XGBoost]</td>\n",
       "      <td>XGBoost</td>\n",
       "    </tr>\n",
       "    <tr>\n",
       "      <th>5</th>\n",
       "      <td>b94c6c7a55c742af85fff6f1c85ca3d7</td>\n",
       "      <td>0</td>\n",
       "      <td>Default</td>\n",
       "      <td>RandomForest_20250517_201323</td>\n",
       "      <td>{'metrics.accuracy': 0.8643568840579711, 'metr...</td>\n",
       "      <td>{'params.max_depth': '10', 'params.n_estimator...</td>\n",
       "      <td>[RandomForest]</td>\n",
       "      <td>RandomForest</td>\n",
       "    </tr>\n",
       "    <tr>\n",
       "      <th>6</th>\n",
       "      <td>87bbf827ef734d83b34f20d2a117e147</td>\n",
       "      <td>0</td>\n",
       "      <td>Default</td>\n",
       "      <td>LinearSVC_PCA_20250517_201302</td>\n",
       "      <td>{'metrics.accuracy': 0.8605072463768116, 'metr...</td>\n",
       "      <td>{'params.max_depth': None, 'params.n_estimator...</td>\n",
       "      <td>[LinearSVC_PCA]</td>\n",
       "      <td>LinearSVC_PCA</td>\n",
       "    </tr>\n",
       "    <tr>\n",
       "      <th>7</th>\n",
       "      <td>a6338385570b420fa687c5a80b65e98f</td>\n",
       "      <td>0</td>\n",
       "      <td>Default</td>\n",
       "      <td>LogisticRegression_PCA_20250517_201221</td>\n",
       "      <td>{'metrics.accuracy': 0.859375, 'metrics.f1_sco...</td>\n",
       "      <td>{'params.max_depth': None, 'params.n_estimator...</td>\n",
       "      <td>[LogisticRegression_PCA]</td>\n",
       "      <td>LogisticRegression_PCA</td>\n",
       "    </tr>\n",
       "  </tbody>\n",
       "</table>\n",
       "</div>"
      ],
      "text/plain": [
       "                             run_id experiment_id experiment_name  \\\n",
       "0  b5606b62df26453cbe54635618cc9a42             0         Default   \n",
       "1  ebad1b80510242e889ec5b36b3d053a1             0         Default   \n",
       "2  38c2ad4632f14dcaa08cce4deab2b7d2             0         Default   \n",
       "3  2bd01ee707044c6fa3c424f263b3aea4             0         Default   \n",
       "4  03eff35c96664ccaa43b5a4b26aa2568             0         Default   \n",
       "5  b94c6c7a55c742af85fff6f1c85ca3d7             0         Default   \n",
       "6  87bbf827ef734d83b34f20d2a117e147             0         Default   \n",
       "7  a6338385570b420fa687c5a80b65e98f             0         Default   \n",
       "\n",
       "                                 run_name  \\\n",
       "0                 XGBoost_20250517_214912   \n",
       "1            RandomForest_20250517_214701   \n",
       "2           LinearSVC_PCA_20250517_214640   \n",
       "3  LogisticRegression_PCA_20250517_214553   \n",
       "4                 XGBoost_20250517_201607   \n",
       "5            RandomForest_20250517_201323   \n",
       "6           LinearSVC_PCA_20250517_201302   \n",
       "7  LogisticRegression_PCA_20250517_201221   \n",
       "\n",
       "                                             metrics  \\\n",
       "0  {'metrics.accuracy': 0.8756793478260869, 'metr...   \n",
       "1  {'metrics.accuracy': 0.8620923913043478, 'metr...   \n",
       "2  {'metrics.accuracy': 0.858016304347826, 'metri...   \n",
       "3  {'metrics.accuracy': 0.8582427536231884, 'metr...   \n",
       "4  {'metrics.accuracy': 0.8747735507246377, 'metr...   \n",
       "5  {'metrics.accuracy': 0.8643568840579711, 'metr...   \n",
       "6  {'metrics.accuracy': 0.8605072463768116, 'metr...   \n",
       "7  {'metrics.accuracy': 0.859375, 'metrics.f1_sco...   \n",
       "\n",
       "                                              params  \\\n",
       "0  {'params.max_depth': '6', 'params.n_estimators...   \n",
       "1  {'params.max_depth': '10', 'params.n_estimator...   \n",
       "2  {'params.max_depth': None, 'params.n_estimator...   \n",
       "3  {'params.max_depth': None, 'params.n_estimator...   \n",
       "4  {'params.max_depth': '6', 'params.n_estimators...   \n",
       "5  {'params.max_depth': '10', 'params.n_estimator...   \n",
       "6  {'params.max_depth': None, 'params.n_estimator...   \n",
       "7  {'params.max_depth': None, 'params.n_estimator...   \n",
       "\n",
       "                  artifacts              model_type  \n",
       "0                 [XGBoost]                 XGBoost  \n",
       "1            [RandomForest]            RandomForest  \n",
       "2           [LinearSVC_PCA]           LinearSVC_PCA  \n",
       "3  [LogisticRegression_PCA]  LogisticRegression_PCA  \n",
       "4                 [XGBoost]                 XGBoost  \n",
       "5            [RandomForest]            RandomForest  \n",
       "6           [LinearSVC_PCA]           LinearSVC_PCA  \n",
       "7  [LogisticRegression_PCA]  LogisticRegression_PCA  "
      ]
     },
     "execution_count": 13,
     "metadata": {},
     "output_type": "execute_result"
    }
   ],
   "source": [
    "# Get all experiments\n",
    "experiments = mlflow.search_experiments()\n",
    "\n",
    "model_summaries = []\n",
    "\n",
    "for exp in experiments:\n",
    "    runs = mlflow.search_runs(exp.experiment_id)\n",
    "    \n",
    "    for _, run in runs.iterrows():\n",
    "        run_id = run.run_id\n",
    "        artifacts = client.list_artifacts(run_id)\n",
    "        \n",
    "        # Modified condition: Check if there are any artifacts at all\n",
    "        # (since in your case all runs with artifacts appear to be models)\n",
    "        if artifacts:\n",
    "            model_info = {\n",
    "                \"run_id\": run_id,\n",
    "                \"experiment_id\": exp.experiment_id,\n",
    "                \"experiment_name\": exp.name,\n",
    "                \"run_name\": run.get('tags.mlflow.runName', ''),\n",
    "                \"metrics\": {k: v for k, v in run.items() if k.startswith('metrics.')},\n",
    "                \"params\": {k: v for k, v in run.items() if k.startswith('params.')},\n",
    "                \"artifacts\": [artifact.path for artifact in artifacts],\n",
    "                \"model_type\": artifacts[0].path  # Since each run has exactly one model artifact\n",
    "            }\n",
    "            model_summaries.append(model_info)\n",
    "\n",
    "# Convert to DataFrame for easy viewing\n",
    "summary_df = pd.DataFrame(model_summaries)\n",
    "summary_df"
   ]
  },
  {
   "cell_type": "markdown",
   "id": "2ff2a87b",
   "metadata": {},
   "source": [
    "## Models"
   ]
  },
  {
   "cell_type": "code",
   "execution_count": 5,
   "id": "b80f3dd7",
   "metadata": {},
   "outputs": [
    {
     "name": "stdout",
     "output_type": "stream",
     "text": [
      "Model Name: LinearSVC_PCA\n",
      "Latest Version: 2\n",
      "Description: \n",
      "-----\n",
      "Model Name: LogisticRegression_PCA\n",
      "Latest Version: 2\n",
      "Description: \n",
      "-----\n",
      "Model Name: RandomForest\n",
      "Latest Version: 2\n",
      "Description: \n",
      "-----\n",
      "Model Name: XGBoost\n",
      "Latest Version: 2\n",
      "Description: \n",
      "-----\n"
     ]
    }
   ],
   "source": [
    "client = MlflowClient()\n",
    "registered_models = client.search_registered_models()\n",
    "\n",
    "for model in registered_models:\n",
    "    print(f\"Model Name: {model.name}\")\n",
    "    print(f\"Latest Version: {model.latest_versions[0].version}\")\n",
    "    print(f\"Description: {model.description}\")\n",
    "    print(\"-----\")"
   ]
  },
  {
   "cell_type": "code",
   "execution_count": 6,
   "id": "67e9b3eb",
   "metadata": {},
   "outputs": [
    {
     "data": {
      "application/vnd.jupyter.widget-view+json": {
       "model_id": "474bf86279dd4a05960d97ee05318728",
       "version_major": 2,
       "version_minor": 0
      },
      "text/plain": [
       "Downloading artifacts:   0%|          | 0/7 [00:00<?, ?it/s]"
      ]
     },
     "metadata": {},
     "output_type": "display_data"
    },
    {
     "data": {
      "application/vnd.jupyter.widget-view+json": {
       "model_id": "21149ff8a5a8411f9d1090da89346c36",
       "version_major": 2,
       "version_minor": 0
      },
      "text/plain": [
       "Downloading artifacts:   0%|          | 0/1 [00:00<?, ?it/s]"
      ]
     },
     "metadata": {},
     "output_type": "display_data"
    }
   ],
   "source": [
    "for model in registered_models:\n",
    "    # We load the model and its latest version\n",
    "    model_name = model.name\n",
    "    version = model.latest_versions[0].version\n",
    "\n",
    "    # For a registered model\n",
    "    model = mlflow.pyfunc.load_model(f\"models:/{model_name}/{version}\")\n",
    "\n",
    "    # Get the model info\n",
    "    model_info = mlflow.models.get_model_info(f\"models:/{model_name}/{version}\")\n",
    "    break"
   ]
  },
  {
   "cell_type": "code",
   "execution_count": 7,
   "id": "de5e64b5",
   "metadata": {},
   "outputs": [
    {
     "name": "stdout",
     "output_type": "stream",
     "text": [
      "Available flavors: dict_keys(['python_function', 'sklearn'])\n",
      "\n",
      "Pyfunc flavor details: {'env': {'conda': 'conda.yaml', 'virtualenv': 'python_env.yaml'}, 'loader_module': 'mlflow.sklearn', 'model_path': 'model.pkl', 'predict_fn': 'predict', 'python_version': '3.11.0'}\n",
      "\n",
      "Sklearn model details: {'code': None, 'pickled_model': 'model.pkl', 'serialization_format': 'cloudpickle', 'sklearn_version': '1.6.1'}\n",
      "\n",
      "Input schema: [Tensor('float32', (-1, 965))]\n",
      "Output schema: [Tensor('float32', (-1,))]\n"
     ]
    }
   ],
   "source": [
    "# 1. To see ALL available flavors\n",
    "print(\"Available flavors:\", model_info.flavors.keys())\n",
    "\n",
    "# 2. To see the primary/pyfunc flavor details\n",
    "print(\"\\nPyfunc flavor details:\", model_info.flavors.get(\"python_function\", None))\n",
    "\n",
    "# 3. To check for specific framework flavors\n",
    "if \"sklearn\" in model_info.flavors:\n",
    "    print(\"\\nSklearn model details:\", model_info.flavors[\"sklearn\"])\n",
    "if \"tensorflow\" in model_info.flavors:\n",
    "    print(\"\\nTensorFlow model details:\", model_info.flavors[\"tensorflow\"])\n",
    "if \"pytorch\" in model_info.flavors:\n",
    "    print(\"\\nPyTorch model details:\", model_info.flavors[\"pytorch\"])\n",
    "\n",
    "# 4. To get the model signature (if available)\n",
    "if model_info.signature:\n",
    "    print(\"\\nInput schema:\", model_info.signature.inputs)\n",
    "    print(\"Output schema:\", model_info.signature.outputs)\n",
    "else:\n",
    "    print(\"\\nNo signature available - model was saved without schema\")"
   ]
  },
  {
   "cell_type": "code",
   "execution_count": 8,
   "id": "69b53859",
   "metadata": {},
   "outputs": [],
   "source": [
    "from mlflow.tracking import MlflowClient\n",
    "\n",
    "client = MlflowClient()\n",
    "registered_models = client.search_registered_models()\n",
    "\n",
    "for model in registered_models:\n",
    "    latest_version = model.latest_versions[0].version\n",
    "    client.set_registered_model_alias(\n",
    "        name=model.name,\n",
    "        alias=\"Champion\",  # That is the current form of \"Production\"\n",
    "        version=latest_version\n",
    "    )"
   ]
  }
 ],
 "metadata": {
  "kernelspec": {
   "display_name": "venv",
   "language": "python",
   "name": "python3"
  },
  "language_info": {
   "codemirror_mode": {
    "name": "ipython",
    "version": 3
   },
   "file_extension": ".py",
   "mimetype": "text/x-python",
   "name": "python",
   "nbconvert_exporter": "python",
   "pygments_lexer": "ipython3",
   "version": "3.11.0"
  }
 },
 "nbformat": 4,
 "nbformat_minor": 5
}
