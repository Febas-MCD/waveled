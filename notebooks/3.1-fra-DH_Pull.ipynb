{
 "cells": [
  {
   "cell_type": "markdown",
   "id": "b3da5355",
   "metadata": {},
   "source": [
    "In this notebook see how to get a summary of the experiments, aswell as how to retrieve, load, and use the registered models from DAGsHub"
   ]
  },
  {
   "cell_type": "markdown",
   "id": "09480e91",
   "metadata": {},
   "source": [
    "## Libraries"
   ]
  },
  {
   "cell_type": "code",
   "execution_count": 1,
   "id": "f966d50d",
   "metadata": {},
   "outputs": [],
   "source": [
    "import mlflow\n",
    "import dagshub\n",
    "import pandas as pd\n",
    "from mlflow.tracking import MlflowClient"
   ]
  },
  {
   "cell_type": "markdown",
   "id": "7bc356f6",
   "metadata": {},
   "source": [
    "## DAGsHub Conection"
   ]
  },
  {
   "cell_type": "code",
   "execution_count": 2,
   "id": "20803aa0",
   "metadata": {},
   "outputs": [
    {
     "data": {
      "text/html": [
       "<pre style=\"white-space:pre;overflow-x:auto;line-height:normal;font-family:Menlo,'DejaVu Sans Mono',consolas,'Courier New',monospace\">Accessing as felytz\n",
       "</pre>\n"
      ],
      "text/plain": [
       "Accessing as felytz\n"
      ]
     },
     "metadata": {},
     "output_type": "display_data"
    },
    {
     "data": {
      "text/html": [
       "<pre style=\"white-space:pre;overflow-x:auto;line-height:normal;font-family:Menlo,'DejaVu Sans Mono',consolas,'Courier New',monospace\">Initialized MLflow to track repo <span style=\"color: #008000; text-decoration-color: #008000\">\"felytz/waveled\"</span>\n",
       "</pre>\n"
      ],
      "text/plain": [
       "Initialized MLflow to track repo \u001b[32m\"felytz/waveled\"\u001b[0m\n"
      ]
     },
     "metadata": {},
     "output_type": "display_data"
    },
    {
     "data": {
      "text/html": [
       "<pre style=\"white-space:pre;overflow-x:auto;line-height:normal;font-family:Menlo,'DejaVu Sans Mono',consolas,'Courier New',monospace\">Repository felytz/waveled initialized!\n",
       "</pre>\n"
      ],
      "text/plain": [
       "Repository felytz/waveled initialized!\n"
      ]
     },
     "metadata": {},
     "output_type": "display_data"
    }
   ],
   "source": [
    "# Initialize DagsHub Conection\n",
    "dagshub.init(repo_owner='felytz', repo_name='waveled', mlflow=True)\n",
    "mlflow.set_tracking_uri('https://dagshub.com/felytz/waveled.mlflow')"
   ]
  },
  {
   "cell_type": "markdown",
   "id": "8ec918b5",
   "metadata": {},
   "source": [
    "## Experiments"
   ]
  },
  {
   "cell_type": "code",
   "execution_count": 3,
   "id": "d83a7d78",
   "metadata": {},
   "outputs": [
    {
     "data": {
      "text/html": [
       "<div>\n",
       "<style scoped>\n",
       "    .dataframe tbody tr th:only-of-type {\n",
       "        vertical-align: middle;\n",
       "    }\n",
       "\n",
       "    .dataframe tbody tr th {\n",
       "        vertical-align: top;\n",
       "    }\n",
       "\n",
       "    .dataframe thead th {\n",
       "        text-align: right;\n",
       "    }\n",
       "</style>\n",
       "<table border=\"1\" class=\"dataframe\">\n",
       "  <thead>\n",
       "    <tr style=\"text-align: right;\">\n",
       "      <th></th>\n",
       "      <th>run_id</th>\n",
       "      <th>experiment_id</th>\n",
       "      <th>experiment_name</th>\n",
       "      <th>run_name</th>\n",
       "      <th>metrics</th>\n",
       "      <th>params</th>\n",
       "      <th>artifacts</th>\n",
       "    </tr>\n",
       "  </thead>\n",
       "  <tbody>\n",
       "    <tr>\n",
       "      <th>0</th>\n",
       "      <td>33f4b4c845cc4591a9b194d9cea9e00d</td>\n",
       "      <td>0</td>\n",
       "      <td>waveled-models</td>\n",
       "      <td>RandomForest_20250514_004206</td>\n",
       "      <td>{'metrics.f1_score': 0.8598249953613295, 'metr...</td>\n",
       "      <td>{'params.n_estimators': '100', 'params.max_dep...</td>\n",
       "      <td>[RandomForest, classification_report.json, sca...</td>\n",
       "    </tr>\n",
       "    <tr>\n",
       "      <th>1</th>\n",
       "      <td>6851562d7ea04c16ab55c3ccc4af2436</td>\n",
       "      <td>0</td>\n",
       "      <td>waveled-models</td>\n",
       "      <td>XGBoost_20250514_001513</td>\n",
       "      <td>{'metrics.f1_score': 0.875244277712905, 'metri...</td>\n",
       "      <td>{'params.n_estimators': '100', 'params.max_dep...</td>\n",
       "      <td>[XGBoost, classification_report.json, scaler_m...</td>\n",
       "    </tr>\n",
       "    <tr>\n",
       "      <th>2</th>\n",
       "      <td>d2e3ecf646994825977e6271a44f2a81</td>\n",
       "      <td>0</td>\n",
       "      <td>waveled-models</td>\n",
       "      <td>RandomForest_20250514_001200</td>\n",
       "      <td>{'metrics.f1_score': 0.8598249953613295, 'metr...</td>\n",
       "      <td>{'params.n_estimators': '100', 'params.max_dep...</td>\n",
       "      <td>[RandomForest, classification_report.json, sca...</td>\n",
       "    </tr>\n",
       "    <tr>\n",
       "      <th>3</th>\n",
       "      <td>6551a1efc94948a090bb70c6ef95d29a</td>\n",
       "      <td>0</td>\n",
       "      <td>waveled-models</td>\n",
       "      <td>LogisticRegression_PCA</td>\n",
       "      <td>{'metrics.f1_score': 0.8570018456360606, 'metr...</td>\n",
       "      <td>{'params.n_estimators': None, 'params.max_dept...</td>\n",
       "      <td>[LogisticRegression_PCA, classification_report...</td>\n",
       "    </tr>\n",
       "    <tr>\n",
       "      <th>4</th>\n",
       "      <td>75a4c1c90102464e8f085bc40ebd1357</td>\n",
       "      <td>0</td>\n",
       "      <td>waveled-models</td>\n",
       "      <td>LogisticRegression_PCA</td>\n",
       "      <td>{'metrics.f1_score': 0.8570018456360606, 'metr...</td>\n",
       "      <td>{'params.n_estimators': None, 'params.max_dept...</td>\n",
       "      <td>[LogisticRegression_PCA, classification_report...</td>\n",
       "    </tr>\n",
       "    <tr>\n",
       "      <th>5</th>\n",
       "      <td>0fdbcba24aef4aa8999c8b0658def247</td>\n",
       "      <td>0</td>\n",
       "      <td>waveled-models</td>\n",
       "      <td>LogisticRegression_PCA</td>\n",
       "      <td>{'metrics.f1_score': 0.8625711828013963, 'metr...</td>\n",
       "      <td>{'params.n_estimators': None, 'params.max_dept...</td>\n",
       "      <td>[LogisticRegression_PCA, classification_report...</td>\n",
       "    </tr>\n",
       "    <tr>\n",
       "      <th>6</th>\n",
       "      <td>58ced13ac0804341ad7c863f19b63ca3</td>\n",
       "      <td>0</td>\n",
       "      <td>waveled-models</td>\n",
       "      <td>LogisticRegression_PCA</td>\n",
       "      <td>{'metrics.f1_score': 0.8625711828013963, 'metr...</td>\n",
       "      <td>{'params.n_estimators': None, 'params.max_dept...</td>\n",
       "      <td>[LogisticRegression_PCA, class_distribution.js...</td>\n",
       "    </tr>\n",
       "    <tr>\n",
       "      <th>7</th>\n",
       "      <td>8a475a1b868847a6a05429b9362fc9b4</td>\n",
       "      <td>0</td>\n",
       "      <td>waveled-models</td>\n",
       "      <td>LogisticRegression_PCA</td>\n",
       "      <td>{'metrics.f1_score': 0.8625711828013963, 'metr...</td>\n",
       "      <td>{'params.n_estimators': None, 'params.max_dept...</td>\n",
       "      <td>[LogisticRegression_PCA, classification_report...</td>\n",
       "    </tr>\n",
       "    <tr>\n",
       "      <th>8</th>\n",
       "      <td>95a82933d456494984644985dfa5d82b</td>\n",
       "      <td>0</td>\n",
       "      <td>waveled-models</td>\n",
       "      <td>XGBoost</td>\n",
       "      <td>{'metrics.f1_score': 0.8737171503593492, 'metr...</td>\n",
       "      <td>{'params.n_estimators': '100', 'params.max_dep...</td>\n",
       "      <td>[XGBoost, classification_report.json, scaler_m...</td>\n",
       "    </tr>\n",
       "    <tr>\n",
       "      <th>9</th>\n",
       "      <td>639a4d6c86144fbcab73884145ff9006</td>\n",
       "      <td>0</td>\n",
       "      <td>waveled-models</td>\n",
       "      <td>RandomForest</td>\n",
       "      <td>{'metrics.f1_score': 0.8625508814572417, 'metr...</td>\n",
       "      <td>{'params.n_estimators': '50', 'params.max_dept...</td>\n",
       "      <td>[RandomForest, classification_report.json, sca...</td>\n",
       "    </tr>\n",
       "    <tr>\n",
       "      <th>10</th>\n",
       "      <td>34af28b1bf2c4d39ae95a5d25d17f706</td>\n",
       "      <td>0</td>\n",
       "      <td>waveled-models</td>\n",
       "      <td>LinearSVC_PCA</td>\n",
       "      <td>{'metrics.f1_score': 0.8592281156632071, 'metr...</td>\n",
       "      <td>{'params.n_estimators': None, 'params.max_dept...</td>\n",
       "      <td>[LinearSVC_PCA, classification_report.json, pc...</td>\n",
       "    </tr>\n",
       "    <tr>\n",
       "      <th>11</th>\n",
       "      <td>e0f0e4cad21b49c1b5624580b5cc9460</td>\n",
       "      <td>0</td>\n",
       "      <td>waveled-models</td>\n",
       "      <td>LogisticRegression_PCA</td>\n",
       "      <td>{'metrics.f1_score': 0.858839093067827, 'metri...</td>\n",
       "      <td>{'params.n_estimators': None, 'params.max_dept...</td>\n",
       "      <td>[LogisticRegression_PCA, classification_report...</td>\n",
       "    </tr>\n",
       "    <tr>\n",
       "      <th>12</th>\n",
       "      <td>661ae93b71a54a8d90e7989bc5dc9ace</td>\n",
       "      <td>0</td>\n",
       "      <td>waveled-models</td>\n",
       "      <td>XGBoost</td>\n",
       "      <td>{'metrics.f1_score': 0.8759182698448982, 'metr...</td>\n",
       "      <td>{'params.n_estimators': '100', 'params.max_dep...</td>\n",
       "      <td>[XGBoost, classification_report.json, scaler_m...</td>\n",
       "    </tr>\n",
       "    <tr>\n",
       "      <th>13</th>\n",
       "      <td>de42ba2572214320afb19dfccb14618a</td>\n",
       "      <td>0</td>\n",
       "      <td>waveled-models</td>\n",
       "      <td>RandomForest</td>\n",
       "      <td>{'metrics.f1_score': 0.8638203857636602, 'metr...</td>\n",
       "      <td>{'params.n_estimators': '100', 'params.max_dep...</td>\n",
       "      <td>[RandomForest, classification_report.json, sca...</td>\n",
       "    </tr>\n",
       "    <tr>\n",
       "      <th>14</th>\n",
       "      <td>07c00e2e0c5a453897ab4c19350b066b</td>\n",
       "      <td>0</td>\n",
       "      <td>waveled-models</td>\n",
       "      <td>LinearSVC_PCA</td>\n",
       "      <td>{'metrics.f1_score': 0.8595010018718926, 'metr...</td>\n",
       "      <td>{'params.n_estimators': None, 'params.max_dept...</td>\n",
       "      <td>[LinearSVC_PCA, classification_report.json, pc...</td>\n",
       "    </tr>\n",
       "    <tr>\n",
       "      <th>15</th>\n",
       "      <td>a6402d35aa1349ddafd2169a0ebf2312</td>\n",
       "      <td>0</td>\n",
       "      <td>waveled-models</td>\n",
       "      <td>LogisticRegression_PCA</td>\n",
       "      <td>{'metrics.f1_score': 0.8628560407181585, 'metr...</td>\n",
       "      <td>{'params.n_estimators': None, 'params.max_dept...</td>\n",
       "      <td>[LogisticRegression_PCA, classification_report...</td>\n",
       "    </tr>\n",
       "  </tbody>\n",
       "</table>\n",
       "</div>"
      ],
      "text/plain": [
       "                              run_id experiment_id experiment_name  \\\n",
       "0   33f4b4c845cc4591a9b194d9cea9e00d             0  waveled-models   \n",
       "1   6851562d7ea04c16ab55c3ccc4af2436             0  waveled-models   \n",
       "2   d2e3ecf646994825977e6271a44f2a81             0  waveled-models   \n",
       "3   6551a1efc94948a090bb70c6ef95d29a             0  waveled-models   \n",
       "4   75a4c1c90102464e8f085bc40ebd1357             0  waveled-models   \n",
       "5   0fdbcba24aef4aa8999c8b0658def247             0  waveled-models   \n",
       "6   58ced13ac0804341ad7c863f19b63ca3             0  waveled-models   \n",
       "7   8a475a1b868847a6a05429b9362fc9b4             0  waveled-models   \n",
       "8   95a82933d456494984644985dfa5d82b             0  waveled-models   \n",
       "9   639a4d6c86144fbcab73884145ff9006             0  waveled-models   \n",
       "10  34af28b1bf2c4d39ae95a5d25d17f706             0  waveled-models   \n",
       "11  e0f0e4cad21b49c1b5624580b5cc9460             0  waveled-models   \n",
       "12  661ae93b71a54a8d90e7989bc5dc9ace             0  waveled-models   \n",
       "13  de42ba2572214320afb19dfccb14618a             0  waveled-models   \n",
       "14  07c00e2e0c5a453897ab4c19350b066b             0  waveled-models   \n",
       "15  a6402d35aa1349ddafd2169a0ebf2312             0  waveled-models   \n",
       "\n",
       "                        run_name  \\\n",
       "0   RandomForest_20250514_004206   \n",
       "1        XGBoost_20250514_001513   \n",
       "2   RandomForest_20250514_001200   \n",
       "3         LogisticRegression_PCA   \n",
       "4         LogisticRegression_PCA   \n",
       "5         LogisticRegression_PCA   \n",
       "6         LogisticRegression_PCA   \n",
       "7         LogisticRegression_PCA   \n",
       "8                        XGBoost   \n",
       "9                   RandomForest   \n",
       "10                 LinearSVC_PCA   \n",
       "11        LogisticRegression_PCA   \n",
       "12                       XGBoost   \n",
       "13                  RandomForest   \n",
       "14                 LinearSVC_PCA   \n",
       "15        LogisticRegression_PCA   \n",
       "\n",
       "                                              metrics  \\\n",
       "0   {'metrics.f1_score': 0.8598249953613295, 'metr...   \n",
       "1   {'metrics.f1_score': 0.875244277712905, 'metri...   \n",
       "2   {'metrics.f1_score': 0.8598249953613295, 'metr...   \n",
       "3   {'metrics.f1_score': 0.8570018456360606, 'metr...   \n",
       "4   {'metrics.f1_score': 0.8570018456360606, 'metr...   \n",
       "5   {'metrics.f1_score': 0.8625711828013963, 'metr...   \n",
       "6   {'metrics.f1_score': 0.8625711828013963, 'metr...   \n",
       "7   {'metrics.f1_score': 0.8625711828013963, 'metr...   \n",
       "8   {'metrics.f1_score': 0.8737171503593492, 'metr...   \n",
       "9   {'metrics.f1_score': 0.8625508814572417, 'metr...   \n",
       "10  {'metrics.f1_score': 0.8592281156632071, 'metr...   \n",
       "11  {'metrics.f1_score': 0.858839093067827, 'metri...   \n",
       "12  {'metrics.f1_score': 0.8759182698448982, 'metr...   \n",
       "13  {'metrics.f1_score': 0.8638203857636602, 'metr...   \n",
       "14  {'metrics.f1_score': 0.8595010018718926, 'metr...   \n",
       "15  {'metrics.f1_score': 0.8628560407181585, 'metr...   \n",
       "\n",
       "                                               params  \\\n",
       "0   {'params.n_estimators': '100', 'params.max_dep...   \n",
       "1   {'params.n_estimators': '100', 'params.max_dep...   \n",
       "2   {'params.n_estimators': '100', 'params.max_dep...   \n",
       "3   {'params.n_estimators': None, 'params.max_dept...   \n",
       "4   {'params.n_estimators': None, 'params.max_dept...   \n",
       "5   {'params.n_estimators': None, 'params.max_dept...   \n",
       "6   {'params.n_estimators': None, 'params.max_dept...   \n",
       "7   {'params.n_estimators': None, 'params.max_dept...   \n",
       "8   {'params.n_estimators': '100', 'params.max_dep...   \n",
       "9   {'params.n_estimators': '50', 'params.max_dept...   \n",
       "10  {'params.n_estimators': None, 'params.max_dept...   \n",
       "11  {'params.n_estimators': None, 'params.max_dept...   \n",
       "12  {'params.n_estimators': '100', 'params.max_dep...   \n",
       "13  {'params.n_estimators': '100', 'params.max_dep...   \n",
       "14  {'params.n_estimators': None, 'params.max_dept...   \n",
       "15  {'params.n_estimators': None, 'params.max_dept...   \n",
       "\n",
       "                                            artifacts  \n",
       "0   [RandomForest, classification_report.json, sca...  \n",
       "1   [XGBoost, classification_report.json, scaler_m...  \n",
       "2   [RandomForest, classification_report.json, sca...  \n",
       "3   [LogisticRegression_PCA, classification_report...  \n",
       "4   [LogisticRegression_PCA, classification_report...  \n",
       "5   [LogisticRegression_PCA, classification_report...  \n",
       "6   [LogisticRegression_PCA, class_distribution.js...  \n",
       "7   [LogisticRegression_PCA, classification_report...  \n",
       "8   [XGBoost, classification_report.json, scaler_m...  \n",
       "9   [RandomForest, classification_report.json, sca...  \n",
       "10  [LinearSVC_PCA, classification_report.json, pc...  \n",
       "11  [LogisticRegression_PCA, classification_report...  \n",
       "12  [XGBoost, classification_report.json, scaler_m...  \n",
       "13  [RandomForest, classification_report.json, sca...  \n",
       "14  [LinearSVC_PCA, classification_report.json, pc...  \n",
       "15  [LogisticRegression_PCA, classification_report...  "
      ]
     },
     "execution_count": 3,
     "metadata": {},
     "output_type": "execute_result"
    }
   ],
   "source": [
    "client = MlflowClient()\n",
    "\n",
    "# Get all experiments\n",
    "experiments = mlflow.search_experiments()\n",
    "\n",
    "model_summaries = []\n",
    "\n",
    "for exp in experiments:\n",
    "    runs = mlflow.search_runs(exp.experiment_id)\n",
    "    \n",
    "    for _, run in runs.iterrows():\n",
    "        run_id = run.run_id\n",
    "        artifacts = client.list_artifacts(run_id)\n",
    "        \n",
    "        # Check if this run has a model\n",
    "        if any(\"model\" in artifact.path for artifact in artifacts):\n",
    "            model_info = {\n",
    "                \"run_id\": run_id,\n",
    "                \"experiment_id\": exp.experiment_id,\n",
    "                \"experiment_name\": exp.name,\n",
    "                \"run_name\": run.get('tags.mlflow.runName', ''),\n",
    "                \"metrics\": {k: v for k, v in run.items() if k.startswith('metrics.')},\n",
    "                \"params\": {k: v for k, v in run.items() if k.startswith('params.')},\n",
    "                \"artifacts\": [artifact.path for artifact in artifacts]\n",
    "            }\n",
    "            model_summaries.append(model_info)\n",
    "\n",
    "# Convert to DataFrame for easy viewing\n",
    "summary_df = pd.DataFrame(model_summaries)\n",
    "summary_df"
   ]
  },
  {
   "cell_type": "markdown",
   "id": "2ff2a87b",
   "metadata": {},
   "source": [
    "## Models"
   ]
  },
  {
   "cell_type": "code",
   "execution_count": 7,
   "id": "b80f3dd7",
   "metadata": {},
   "outputs": [
    {
     "name": "stdout",
     "output_type": "stream",
     "text": [
      "Model Name: LinearSVC_PCA\n",
      "Latest Version: 6\n",
      "Description: \n",
      "-----\n",
      "Model Name: LogisticRegression_PCA\n",
      "Latest Version: 6\n",
      "Description: \n",
      "-----\n",
      "Model Name: RandomForest\n",
      "Latest Version: 6\n",
      "Description: \n",
      "-----\n",
      "Model Name: XGBoost\n",
      "Latest Version: 5\n",
      "Description: \n",
      "-----\n"
     ]
    }
   ],
   "source": [
    "client = MlflowClient()\n",
    "registered_models = client.search_registered_models()\n",
    "\n",
    "for model in registered_models:\n",
    "    print(f\"Model Name: {model.name}\")\n",
    "    print(f\"Latest Version: {model.latest_versions[0].version}\")\n",
    "    print(f\"Description: {model.description}\")\n",
    "    print(\"-----\")"
   ]
  },
  {
   "cell_type": "code",
   "execution_count": 14,
   "id": "67e9b3eb",
   "metadata": {},
   "outputs": [
    {
     "data": {
      "application/vnd.jupyter.widget-view+json": {
       "model_id": "a473fcbba7be4a6ca949aeefb8a48a78",
       "version_major": 2,
       "version_minor": 0
      },
      "text/plain": [
       "Downloading artifacts:   0%|          | 0/7 [00:00<?, ?it/s]"
      ]
     },
     "metadata": {},
     "output_type": "display_data"
    },
    {
     "data": {
      "application/vnd.jupyter.widget-view+json": {
       "model_id": "50686ea1825a422fa1311427edb0ab53",
       "version_major": 2,
       "version_minor": 0
      },
      "text/plain": [
       "Downloading artifacts:   0%|          | 0/1 [00:00<?, ?it/s]"
      ]
     },
     "metadata": {},
     "output_type": "display_data"
    }
   ],
   "source": [
    "for model in registered_models:\n",
    "    # We load the model and its latest version\n",
    "    model_name = model.name\n",
    "    version = model.latest_versions[0].version\n",
    "\n",
    "    # For a registered model\n",
    "    model = mlflow.pyfunc.load_model(f\"models:/{model_name}/{version}\")\n",
    "\n",
    "    # Get the model info\n",
    "    model_info = mlflow.models.get_model_info(f\"models:/{model_name}/{version}\")\n",
    "    break"
   ]
  },
  {
   "cell_type": "code",
   "execution_count": 15,
   "id": "de5e64b5",
   "metadata": {},
   "outputs": [
    {
     "name": "stdout",
     "output_type": "stream",
     "text": [
      "Available flavors: dict_keys(['python_function', 'sklearn'])\n",
      "\n",
      "Pyfunc flavor details: {'env': {'conda': 'conda.yaml', 'virtualenv': 'python_env.yaml'}, 'loader_module': 'mlflow.sklearn', 'model_path': 'model.pkl', 'predict_fn': 'predict', 'python_version': '3.11.0'}\n",
      "\n",
      "Sklearn model details: {'code': None, 'pickled_model': 'model.pkl', 'serialization_format': 'cloudpickle', 'sklearn_version': '1.6.1'}\n",
      "\n",
      "Input schema: [Tensor('float32', (-1, 965))]\n",
      "Output schema: [Tensor('float32', (-1,))]\n"
     ]
    }
   ],
   "source": [
    "# 1. To see ALL available flavors\n",
    "print(\"Available flavors:\", model_info.flavors.keys())\n",
    "\n",
    "# 2. To see the primary/pyfunc flavor details\n",
    "print(\"\\nPyfunc flavor details:\", model_info.flavors.get(\"python_function\", None))\n",
    "\n",
    "# 3. To check for specific framework flavors\n",
    "if \"sklearn\" in model_info.flavors:\n",
    "    print(\"\\nSklearn model details:\", model_info.flavors[\"sklearn\"])\n",
    "if \"tensorflow\" in model_info.flavors:\n",
    "    print(\"\\nTensorFlow model details:\", model_info.flavors[\"tensorflow\"])\n",
    "if \"pytorch\" in model_info.flavors:\n",
    "    print(\"\\nPyTorch model details:\", model_info.flavors[\"pytorch\"])\n",
    "\n",
    "# 4. To get the model signature (if available)\n",
    "if model_info.signature:\n",
    "    print(\"\\nInput schema:\", model_info.signature.inputs)\n",
    "    print(\"Output schema:\", model_info.signature.outputs)\n",
    "else:\n",
    "    print(\"\\nNo signature available - model was saved without schema\")"
   ]
  },
  {
   "cell_type": "code",
   "execution_count": 16,
   "id": "69b53859",
   "metadata": {},
   "outputs": [],
   "source": [
    "from mlflow.tracking import MlflowClient\n",
    "\n",
    "client = MlflowClient()\n",
    "registered_models = client.search_registered_models()\n",
    "\n",
    "for model in registered_models:\n",
    "    latest_version = model.latest_versions[0].version\n",
    "    client.set_registered_model_alias(\n",
    "        name=model.name,\n",
    "        alias=\"Champion\",  # That is the current form of \"Production\"\n",
    "        version=latest_version\n",
    "    )"
   ]
  }
 ],
 "metadata": {
  "kernelspec": {
   "display_name": "venv",
   "language": "python",
   "name": "python3"
  },
  "language_info": {
   "codemirror_mode": {
    "name": "ipython",
    "version": 3
   },
   "file_extension": ".py",
   "mimetype": "text/x-python",
   "name": "python",
   "nbconvert_exporter": "python",
   "pygments_lexer": "ipython3",
   "version": "3.11.0"
  }
 },
 "nbformat": 4,
 "nbformat_minor": 5
}
