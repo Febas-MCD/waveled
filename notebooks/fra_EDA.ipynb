{
 "cells": [
  {
   "cell_type": "markdown",
   "metadata": {},
   "source": [
    "# Libraries and paths"
   ]
  },
  {
   "cell_type": "code",
   "execution_count": 6,
   "metadata": {},
   "outputs": [],
   "source": [
    "import tensorflow as tf\n",
    "import pandas as pd\n",
    "import json\n",
    "import os\n",
    "import re"
   ]
  },
  {
   "cell_type": "code",
   "execution_count": 7,
   "metadata": {},
   "outputs": [],
   "source": [
    "# file paths\n",
    "base_dir = \"../data/\"\n",
    "tf_dir = \"tf_records/\"\n",
    "dic_dir = 'dic/'\n",
    "splits = [\"bal_train/\"]#, \"eval/\", \"unbal_train/\"]\n",
    "seg = 'segments.csv'\n",
    "ont = 'ontology.json'"
   ]
  },
  {
   "cell_type": "markdown",
   "metadata": {},
   "source": [
    "# Preprocessing"
   ]
  },
  {
   "cell_type": "markdown",
   "metadata": {},
   "source": [
    "## Loading data"
   ]
  },
  {
   "cell_type": "code",
   "execution_count": 8,
   "metadata": {},
   "outputs": [],
   "source": [
    "bal_dic_dir = os.path.join(base_dir, dic_dir, splits[0], seg)"
   ]
  },
  {
   "cell_type": "code",
   "execution_count": 9,
   "metadata": {},
   "outputs": [
    {
     "data": {
      "application/vnd.microsoft.datawrangler.viewer.v0+json": {
       "columns": [
        {
         "name": "index",
         "rawType": "int64",
         "type": "integer"
        },
        {
         "name": "YTID",
         "rawType": "object",
         "type": "string"
        },
        {
         "name": " start_seconds",
         "rawType": "float64",
         "type": "float"
        },
        {
         "name": " end_seconds",
         "rawType": "float64",
         "type": "float"
        },
        {
         "name": " positive_labels",
         "rawType": "object",
         "type": "string"
        }
       ],
       "conversionMethod": "pd.DataFrame",
       "ref": "093588d4-4cf7-430c-862a-3eb095447ad7",
       "rows": [
        [
         "0",
         "--PJHxphWEs",
         "30.0",
         "40.0",
         " \"/m/09x0r;/t/dd00088\""
        ],
        [
         "1",
         "--ZhevVpy1s",
         "50.0",
         "60.0",
         " \"/m/012xff\""
        ],
        [
         "2",
         "--aE2O5G5WE",
         "0.0",
         "10.0",
         " \"/m/03fwl;/m/04rlf;/m/09x0r\""
        ],
        [
         "3",
         "--aO5cdqSAg",
         "30.0",
         "40.0",
         " \"/t/dd00003;/t/dd00005\""
        ],
        [
         "4",
         "--aaILOrkII",
         "200.0",
         "210.0",
         " \"/m/032s66;/m/073cg4\""
        ]
       ],
       "shape": {
        "columns": 4,
        "rows": 5
       }
      },
      "text/html": [
       "<div>\n",
       "<style scoped>\n",
       "    .dataframe tbody tr th:only-of-type {\n",
       "        vertical-align: middle;\n",
       "    }\n",
       "\n",
       "    .dataframe tbody tr th {\n",
       "        vertical-align: top;\n",
       "    }\n",
       "\n",
       "    .dataframe thead th {\n",
       "        text-align: right;\n",
       "    }\n",
       "</style>\n",
       "<table border=\"1\" class=\"dataframe\">\n",
       "  <thead>\n",
       "    <tr style=\"text-align: right;\">\n",
       "      <th></th>\n",
       "      <th>YTID</th>\n",
       "      <th>start_seconds</th>\n",
       "      <th>end_seconds</th>\n",
       "      <th>positive_labels</th>\n",
       "    </tr>\n",
       "  </thead>\n",
       "  <tbody>\n",
       "    <tr>\n",
       "      <th>0</th>\n",
       "      <td>--PJHxphWEs</td>\n",
       "      <td>30.0</td>\n",
       "      <td>40.0</td>\n",
       "      <td>\"/m/09x0r;/t/dd00088\"</td>\n",
       "    </tr>\n",
       "    <tr>\n",
       "      <th>1</th>\n",
       "      <td>--ZhevVpy1s</td>\n",
       "      <td>50.0</td>\n",
       "      <td>60.0</td>\n",
       "      <td>\"/m/012xff\"</td>\n",
       "    </tr>\n",
       "    <tr>\n",
       "      <th>2</th>\n",
       "      <td>--aE2O5G5WE</td>\n",
       "      <td>0.0</td>\n",
       "      <td>10.0</td>\n",
       "      <td>\"/m/03fwl;/m/04rlf;/m/09x0r\"</td>\n",
       "    </tr>\n",
       "    <tr>\n",
       "      <th>3</th>\n",
       "      <td>--aO5cdqSAg</td>\n",
       "      <td>30.0</td>\n",
       "      <td>40.0</td>\n",
       "      <td>\"/t/dd00003;/t/dd00005\"</td>\n",
       "    </tr>\n",
       "    <tr>\n",
       "      <th>4</th>\n",
       "      <td>--aaILOrkII</td>\n",
       "      <td>200.0</td>\n",
       "      <td>210.0</td>\n",
       "      <td>\"/m/032s66;/m/073cg4\"</td>\n",
       "    </tr>\n",
       "  </tbody>\n",
       "</table>\n",
       "</div>"
      ],
      "text/plain": [
       "          YTID   start_seconds   end_seconds                positive_labels\n",
       "0  --PJHxphWEs            30.0          40.0          \"/m/09x0r;/t/dd00088\"\n",
       "1  --ZhevVpy1s            50.0          60.0                    \"/m/012xff\"\n",
       "2  --aE2O5G5WE             0.0          10.0   \"/m/03fwl;/m/04rlf;/m/09x0r\"\n",
       "3  --aO5cdqSAg            30.0          40.0        \"/t/dd00003;/t/dd00005\"\n",
       "4  --aaILOrkII           200.0         210.0          \"/m/032s66;/m/073cg4\""
      ]
     },
     "execution_count": 9,
     "metadata": {},
     "output_type": "execute_result"
    }
   ],
   "source": [
    "# step 1: Read the file and replace problematic commas\n",
    "with open(bal_dic_dir, \"r\", encoding=\"utf-8\") as f:\n",
    "    fixed_lines = [\n",
    "         re.sub(r',(?! )', ';', line)  # Replace commas that are NOT followed by a space\n",
    "        for line in f\n",
    "    ]\n",
    "\n",
    "bal_fix = os.path.join(base_dir, dic_dir, splits[0], \"fixed_file.csv\")\n",
    "\n",
    "# step 2: Save the modified file\n",
    "with open(bal_fix, \"w\", encoding=\"utf-8\") as f:\n",
    "    f.writelines(fixed_lines)\n",
    "\n",
    "# step 3: Read the modified file\n",
    "df = pd.read_csv(\n",
    "    bal_fix,\n",
    "    quotechar = '\"',\n",
    "    delimiter = \",\",\n",
    "    quoting = 1,\n",
    "    index_col = 0,\n",
    "    header = 0,\n",
    "    dtype = {'positive_labels': str} \n",
    ")\n",
    "\n",
    "# keep the index as a column\n",
    "df = df.reset_index()\n",
    "\n",
    "# drop it\n",
    "df = df.reset_index(drop=True)\n",
    "\n",
    "df.head()"
   ]
  },
  {
   "cell_type": "code",
   "execution_count": 10,
   "metadata": {},
   "outputs": [],
   "source": [
    "# tfrecord files list\n",
    "for split in splits:\n",
    "    split_dir = os.path.join(base_dir, tf_dir, split)\n",
    "    tfrecord_files = [os.path.join(split_dir, f) for f in os.listdir(split_dir) if f.endswith('.tfrecord')]"
   ]
  },
  {
   "cell_type": "code",
   "execution_count": 11,
   "metadata": {},
   "outputs": [],
   "source": [
    "def inspect_tfrecord_n(file_path, n):\n",
    "    raw_dataset = tf.data.TFRecordDataset(file_path)\n",
    "    file_name = os.path.basename(file_path)\n",
    "    \n",
    "    for i, raw_record in enumerate(raw_dataset.take(n), start=1):\n",
    "        example = tf.train.Example()\n",
    "        example.ParseFromString(raw_record.numpy())\n",
    "        \n",
    "        print(f\"Features del registro numero {i} de {file_name}:\")\n",
    "        for key, feature in example.features.feature.items():\n",
    "            if feature.HasField(\"bytes_list\"):\n",
    "                value = feature.bytes_list.value[0].decode('utf-8') if feature.bytes_list.value else \"\"\n",
    "            elif feature.HasField(\"float_list\"):\n",
    "                value = feature.float_list.value[0] if feature.float_list.value else 0.0\n",
    "            elif feature.HasField(\"int64_list\"):\n",
    "                value = feature.int64_list.value[0] if feature.int64_list.value else 0\n",
    "            else:\n",
    "                value = \"Unknown Type\"\n",
    "            print(f'\"{key}\": {value}')\n",
    "        print('')"
   ]
  },
  {
   "cell_type": "markdown",
   "metadata": {},
   "source": [
    "We inspect an arbitrary record from the tfrecord list"
   ]
  },
  {
   "cell_type": "code",
   "execution_count": 12,
   "metadata": {},
   "outputs": [
    {
     "name": "stdout",
     "output_type": "stream",
     "text": [
      "Features del registro numero 1 de --.tfrecord:\n",
      "\"labels\": 399\n",
      "\"video_id\": --cB2ZVjpnA\n",
      "\"start_time_seconds\": 30.0\n",
      "\"end_time_seconds\": 40.0\n",
      "\n",
      "Features del registro numero 2 de --.tfrecord:\n",
      "\"end_time_seconds\": 40.0\n",
      "\"video_id\": --PJHxphWEs\n",
      "\"start_time_seconds\": 30.0\n",
      "\"labels\": 0\n",
      "\n",
      "Features del registro numero 3 de --.tfrecord:\n",
      "\"end_time_seconds\": 40.0\n",
      "\"video_id\": --ekDLDTUXA\n",
      "\"start_time_seconds\": 30.0\n",
      "\"labels\": 27\n",
      "\n"
     ]
    }
   ],
   "source": [
    "file_path = tfrecord_files[0]\n",
    "inspect_tfrecord_n(file_path, 3)"
   ]
  },
  {
   "cell_type": "code",
   "execution_count": 13,
   "metadata": {},
   "outputs": [
    {
     "data": {
      "application/vnd.microsoft.datawrangler.viewer.v0+json": {
       "columns": [
        {
         "name": "index",
         "rawType": "int64",
         "type": "integer"
        },
        {
         "name": "YTID",
         "rawType": "object",
         "type": "string"
        },
        {
         "name": " start_seconds",
         "rawType": "float64",
         "type": "float"
        },
        {
         "name": " end_seconds",
         "rawType": "float64",
         "type": "float"
        },
        {
         "name": " positive_labels",
         "rawType": "object",
         "type": "string"
        }
       ],
       "conversionMethod": "pd.DataFrame",
       "ref": "f48bcad0-3fbf-497b-935e-c2aaa6895bbb",
       "rows": [
        [
         "5",
         "--cB2ZVjpnA",
         "30.0",
         "40.0",
         " \"/m/01y3hg\""
        ]
       ],
       "shape": {
        "columns": 4,
        "rows": 1
       }
      },
      "text/html": [
       "<div>\n",
       "<style scoped>\n",
       "    .dataframe tbody tr th:only-of-type {\n",
       "        vertical-align: middle;\n",
       "    }\n",
       "\n",
       "    .dataframe tbody tr th {\n",
       "        vertical-align: top;\n",
       "    }\n",
       "\n",
       "    .dataframe thead th {\n",
       "        text-align: right;\n",
       "    }\n",
       "</style>\n",
       "<table border=\"1\" class=\"dataframe\">\n",
       "  <thead>\n",
       "    <tr style=\"text-align: right;\">\n",
       "      <th></th>\n",
       "      <th>YTID</th>\n",
       "      <th>start_seconds</th>\n",
       "      <th>end_seconds</th>\n",
       "      <th>positive_labels</th>\n",
       "    </tr>\n",
       "  </thead>\n",
       "  <tbody>\n",
       "    <tr>\n",
       "      <th>5</th>\n",
       "      <td>--cB2ZVjpnA</td>\n",
       "      <td>30.0</td>\n",
       "      <td>40.0</td>\n",
       "      <td>\"/m/01y3hg\"</td>\n",
       "    </tr>\n",
       "  </tbody>\n",
       "</table>\n",
       "</div>"
      ],
      "text/plain": [
       "          YTID   start_seconds   end_seconds  positive_labels\n",
       "5  --cB2ZVjpnA            30.0          40.0      \"/m/01y3hg\""
      ]
     },
     "execution_count": 13,
     "metadata": {},
     "output_type": "execute_result"
    }
   ],
   "source": [
    "test_1 = df[df['YTID'].str.contains('--cB2ZVjpnA')] \n",
    "test_1"
   ]
  },
  {
   "cell_type": "code",
   "execution_count": 14,
   "metadata": {},
   "outputs": [
    {
     "data": {
      "text/plain": [
       "{'id': '/m/0dgw9r',\n",
       " 'name': 'Human sounds',\n",
       " 'description': 'Sounds produced by the human body through the actions of the individual.',\n",
       " 'citation_uri': '',\n",
       " 'positive_examples': [],\n",
       " 'child_ids': ['/m/09l8g',\n",
       "  '/m/01w250',\n",
       "  '/m/09hlz4',\n",
       "  '/m/0bpl036',\n",
       "  '/m/0160x5',\n",
       "  '/m/0k65p',\n",
       "  '/m/01jg02',\n",
       "  '/m/04xp5v',\n",
       "  '/t/dd00012'],\n",
       " 'restrictions': ['abstract']}"
      ]
     },
     "execution_count": 14,
     "metadata": {},
     "output_type": "execute_result"
    }
   ],
   "source": [
    "json_test = os.path.join(base_dir, dic_dir, splits[0], ont)\n",
    "\n",
    "# Open and read the JSON file\n",
    "with open(json_test, 'r') as file:\n",
    "    data = json.load(file)\n",
    "\n",
    "data[0]"
   ]
  },
  {
   "cell_type": "code",
   "execution_count": 15,
   "metadata": {},
   "outputs": [
    {
     "name": "stdout",
     "output_type": "stream",
     "text": [
      "The target '/m/01y3hg' was found in the following names: ['Alarm', 'Smoke detector, smoke alarm']\n"
     ]
    }
   ],
   "source": [
    "# Target string to search for\n",
    "target_string = \"/m/01y3hg\"\n",
    "\n",
    "# Function to search for the target string in 'id' and 'child_ids'\n",
    "def search_data(data, target):\n",
    "    results = []\n",
    "    for item in data:\n",
    "        # Check if the target matches the 'id' field\n",
    "        if item['id'] == target:\n",
    "            results.append(item['name'])\n",
    "        # Check if the target matches any of the 'child_ids'\n",
    "        if target in item.get('child_ids', []):\n",
    "            results.append(item['name'])\n",
    "    return results\n",
    "\n",
    "# Perform the search\n",
    "matching_names = search_data(data, target_string)\n",
    "\n",
    "# Print the results\n",
    "if matching_names:\n",
    "    print(f\"The target '{target_string}' was found in the following names: {matching_names}\")\n",
    "else:\n",
    "    print(f\"The target '{target_string}' was not found.\")"
   ]
  },
  {
   "cell_type": "markdown",
   "metadata": {},
   "source": [
    "features del registro numero 1 de \"--.tfrecord\", con \"video_id\" de --cB2ZVjpnA tiene en la columna de \"positive_labels\" del archivo segments.csv, un valor de  \"/m/01y3hg\", el cual al buscarlo en el diccionario ontology.json obtenemos que tiene los valores de \"['Alarm', 'Smoke detector, smoke alarm']\""
   ]
  }
 ],
 "metadata": {
  "kernelspec": {
   "display_name": "venv",
   "language": "python",
   "name": "python3"
  },
  "language_info": {
   "codemirror_mode": {
    "name": "ipython",
    "version": 3
   },
   "file_extension": ".py",
   "mimetype": "text/x-python",
   "name": "python",
   "nbconvert_exporter": "python",
   "pygments_lexer": "ipython3",
   "version": "3.11.0"
  }
 },
 "nbformat": 4,
 "nbformat_minor": 2
}
