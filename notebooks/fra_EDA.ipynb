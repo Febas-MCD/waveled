{
 "cells": [
  {
   "cell_type": "code",
   "execution_count": 3,
   "metadata": {},
   "outputs": [],
   "source": [
    "import tensorflow as tf\n",
    "import os"
   ]
  },
  {
   "cell_type": "code",
   "execution_count": null,
   "metadata": {},
   "outputs": [],
   "source": [
    "# file paths\n",
    "base_dir = \"../data/tf_records\"\n",
    "splits = [\"bal_train\", \"eval\", \"unbal_train\"]"
   ]
  },
  {
   "cell_type": "code",
   "execution_count": null,
   "metadata": {},
   "outputs": [],
   "source": [
    "# tfrecord files list\n",
    "for split in splits:\n",
    "    split_dir = os.path.join(base_dir, split)\n",
    "    tfrecord_files = [os.path.join(split_dir, f) for f in os.listdir(split_dir) if f.endswith('.tfrecord')]"
   ]
  },
  {
   "cell_type": "code",
   "execution_count": 26,
   "metadata": {},
   "outputs": [],
   "source": [
    "def inspect_tfrecord_n(file_path, n):\n",
    "    raw_dataset = tf.data.TFRecordDataset(file_path)\n",
    "    file_name = os.path.basename(file_path)\n",
    "    \n",
    "    for i, raw_record in enumerate(raw_dataset.take(n), start=1):\n",
    "        example = tf.train.Example()\n",
    "        example.ParseFromString(raw_record.numpy())\n",
    "        \n",
    "        print(f\"Features del registro numero {i} de {file_name}:\")\n",
    "        for key, feature in example.features.feature.items():\n",
    "            if feature.HasField(\"bytes_list\"):\n",
    "                value = feature.bytes_list.value[0].decode('utf-8') if feature.bytes_list.value else \"\"\n",
    "            elif feature.HasField(\"float_list\"):\n",
    "                value = feature.float_list.value[0] if feature.float_list.value else 0.0\n",
    "            elif feature.HasField(\"int64_list\"):\n",
    "                value = feature.int64_list.value[0] if feature.int64_list.value else 0\n",
    "            else:\n",
    "                value = \"Unknown Type\"\n",
    "            print(f'\"{key}\": {value}')\n",
    "        print('')"
   ]
  },
  {
   "cell_type": "markdown",
   "metadata": {},
   "source": [
    "We inspect an arbitrary record from the tfrecord list"
   ]
  },
  {
   "cell_type": "code",
   "execution_count": 30,
   "metadata": {},
   "outputs": [
    {
     "name": "stdout",
     "output_type": "stream",
     "text": [
      "Features del registro numero 1 de -9.tfrecord:\n",
      "\"end_time_seconds\": 40.0\n",
      "\"video_id\": -9wBfK2qA1Q\n",
      "\"start_time_seconds\": 30.0\n",
      "\"labels\": 31\n",
      "\n",
      "Features del registro numero 2 de -9.tfrecord:\n",
      "\"end_time_seconds\": 40.0\n",
      "\"video_id\": -9ICHzifGqM\n",
      "\"start_time_seconds\": 30.0\n",
      "\"labels\": 137\n",
      "\n",
      "Features del registro numero 3 de -9.tfrecord:\n",
      "\"end_time_seconds\": 40.0\n",
      "\"video_id\": -9zxpWMQxL4\n",
      "\"start_time_seconds\": 30.0\n",
      "\"labels\": 468\n",
      "\n"
     ]
    }
   ],
   "source": [
    "file_path = tfrecord_files[10]\n",
    "inspect_tfrecord_n(file_path, 3)"
   ]
  }
 ],
 "metadata": {
  "kernelspec": {
   "display_name": "venv",
   "language": "python",
   "name": "python3"
  },
  "language_info": {
   "codemirror_mode": {
    "name": "ipython",
    "version": 3
   },
   "file_extension": ".py",
   "mimetype": "text/x-python",
   "name": "python",
   "nbconvert_exporter": "python",
   "pygments_lexer": "ipython3",
   "version": "3.11.0"
  }
 },
 "nbformat": 4,
 "nbformat_minor": 2
}
